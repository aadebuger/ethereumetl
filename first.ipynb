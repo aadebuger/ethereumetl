{
 "cells": [
  {
   "cell_type": "code",
   "execution_count": 1,
   "metadata": {},
   "outputs": [
    {
     "name": "stdout",
     "output_type": "stream",
     "text": [
      "Traceback (most recent call last):\n",
      "  File \"export_blocks_and_transactions.py\", line 26, in <module>\n",
      "    from ethereumetl.jobs.export_blocks_job import ExportBlocksJob\n",
      "  File \"/Users/mac2/github2018/ethereum-etl/ethereumetl/jobs/export_blocks_job.py\", line 26, in <module>\n",
      "    from ethereumetl.executors.batch_work_executor import BatchWorkExecutor\n",
      "  File \"/Users/mac2/github2018/ethereum-etl/ethereumetl/executors/batch_work_executor.py\", line 24, in <module>\n",
      "    from web3.utils.threads import Timeout as Web3Timeout\n",
      "ModuleNotFoundError: No module named 'web3'\n"
     ]
    }
   ],
   "source": [
    "!python export_blocks_and_transactions.py --provider-uri file://$HOME/Library/Ethereum/geth.ipc --start-block 900001 --end-block 1500000 --blocks-output local/blocks900001.csv --transactions-output local/transactions900001.csv"
   ]
  },
  {
   "cell_type": "code",
   "execution_count": 2,
   "metadata": {},
   "outputs": [
    {
     "name": "stdout",
     "output_type": "stream",
     "text": [
      "2018-08-31 16:18:20,145 - ProgressLogger [INFO] - Started work. Items to process: 600000.\n",
      "2018-08-31 16:22:26,886 - ProgressLogger [INFO] - 60000 items processed. Progress is 10%.\n",
      "2018-08-31 16:25:16,258 - ProgressLogger [INFO] - 120000 items processed. Progress is 20%.\n",
      "2018-08-31 16:27:24,584 - ProgressLogger [INFO] - 180000 items processed. Progress is 30%.\n",
      "2018-08-31 16:29:30,010 - ProgressLogger [INFO] - 240000 items processed. Progress is 40%.\n",
      "2018-08-31 16:31:23,698 - ProgressLogger [INFO] - 300000 items processed. Progress is 50%.\n",
      "2018-08-31 16:33:07,741 - ProgressLogger [INFO] - 360000 items processed. Progress is 60%.\n",
      "2018-08-31 16:34:47,104 - ProgressLogger [INFO] - 420000 items processed. Progress is 70%.\n",
      "2018-08-31 16:36:29,381 - ProgressLogger [INFO] - 480000 items processed. Progress is 80%.\n",
      "2018-08-31 16:38:12,617 - ProgressLogger [INFO] - 540000 items processed. Progress is 90%.\n",
      "2018-08-31 16:39:59,714 - ProgressLogger [INFO] - 600000 items processed. Progress is 100%.\n",
      "2018-08-31 16:39:59,714 - ProgressLogger [INFO] - Finished work. Total items processed: 600000. Took 0:21:39.569492.\n",
      "2018-08-31 16:39:59,719 - CompositeItemExporter [INFO] - block items exported: 600000\n",
      "2018-08-31 16:39:59,776 - CompositeItemExporter [INFO] - transaction items exported: 3003761\n"
     ]
    }
   ],
   "source": [
    "!~/ethereumvenv3/bin/python export_blocks_and_transactions.py --provider-uri file://$HOME/Library/Ethereum/geth.ipc --start-block 900001 --end-block 1500000 --blocks-output local/blocks900001.csv --transactions-output local/transactions900001.csv"
   ]
  },
  {
   "cell_type": "code",
   "execution_count": null,
   "metadata": {},
   "outputs": [
    {
     "name": "stdout",
     "output_type": "stream",
     "text": [
      "2018-08-31 16:46:36,061 - ProgressLogger [INFO] - Started work. Items to process: 600000.\r\n"
     ]
    }
   ],
   "source": [
    "!~/ethereumvenv3/bin/python export_blocks_and_transactions.py --provider-uri file://$HOME/Library/Ethereum/geth.ipc --start-block 1500001 --end-block 2100000 --blocks-output local/blocks91500001.csv --transactions-output local/transactions1500001.csv"
   ]
  },
  {
   "cell_type": "code",
   "execution_count": null,
   "metadata": {},
   "outputs": [],
   "source": []
  }
 ],
 "metadata": {
  "kernelspec": {
   "display_name": "Python 3",
   "language": "python",
   "name": "python3"
  },
  "language_info": {
   "codemirror_mode": {
    "name": "ipython",
    "version": 3
   },
   "file_extension": ".py",
   "mimetype": "text/x-python",
   "name": "python",
   "nbconvert_exporter": "python",
   "pygments_lexer": "ipython3",
   "version": "3.6.5"
  }
 },
 "nbformat": 4,
 "nbformat_minor": 2
}
