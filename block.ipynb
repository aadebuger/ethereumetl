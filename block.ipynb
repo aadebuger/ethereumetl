{
 "cells": [
  {
   "cell_type": "code",
   "execution_count": 1,
   "metadata": {
    "scrolled": false
   },
   "outputs": [
    {
     "name": "stdout",
     "output_type": "stream",
     "text": [
      "2018-09-27 11:40:00,444 - ProgressLogger [INFO] - Started work. Items to process: 100000.\n",
      "2018-09-27 11:51:05,694 - ProgressLogger [INFO] - 10000 items processed. Progress is 10%.\n",
      "2018-09-27 12:00:11,748 - ProgressLogger [INFO] - 20000 items processed. Progress is 20%.\n",
      "2018-09-27 12:09:42,331 - ProgressLogger [INFO] - 30000 items processed. Progress is 30%.\n",
      "2018-09-27 12:19:06,712 - ProgressLogger [INFO] - 40000 items processed. Progress is 40%.\n",
      "2018-09-27 12:31:04,304 - ProgressLogger [INFO] - 50000 items processed. Progress is 50%.\n",
      "2018-09-27 12:39:12,832 - ProgressLogger [INFO] - 60000 items processed. Progress is 60%.\n",
      "2018-09-27 12:47:44,778 - ProgressLogger [INFO] - 70000 items processed. Progress is 70%.\n",
      "2018-09-27 12:56:36,689 - ProgressLogger [INFO] - 80000 items processed. Progress is 80%.\n",
      "2018-09-27 13:04:40,428 - ProgressLogger [INFO] - 90000 items processed. Progress is 90%.\n",
      "2018-09-27 13:14:11,722 - ProgressLogger [INFO] - 100000 items processed. Progress is 100%.\n",
      "2018-09-27 13:14:11,725 - ProgressLogger [INFO] - Finished work. Total items processed: 100000. Took 1:34:11.279521.\n",
      "2018-09-27 13:14:11,726 - CompositeItemExporter [INFO] - block items exported: 100000\n",
      "2018-09-27 13:14:11,744 - CompositeItemExporter [INFO] - transaction items exported: 8505025\n"
     ]
    }
   ],
   "source": [
    "\n",
    "! ~/ethereumvenv36/bin/python export_blocks_and_transactions.py --start-block 6300\\\n",
    "001 --end-block 6400000 --provider-uri file:/home/aadebuger/GEXTMAC/ethereum1t/data/geth.ipc --blocks-output /home/aadebuger/GEXTMAC/home/aadebuger/github2018/ethereum-etl/data/blocks6300001.csv --transactions-output /home/aadebuger/GEXTMAC/home/aadebuger/github2018/ethereum-etl/data/transactions6300001.csv\n"
   ]
  },
  {
   "cell_type": "code",
   "execution_count": 6,
   "metadata": {
    "scrolled": true
   },
   "outputs": [
    {
     "name": "stdout",
     "output_type": "stream",
     "text": [
      "~/ethereumvenv36/bin/python export_blocks_and_transactions.py --start-block 0 --end-block 500000 --provider-uri file:/home/aadebuger/GEXTMAC/ethereum1t/data/geth.ipc --blocks-output /home/aadebuger/GEXTMAC/home/aadebuger/github2018/ethereum-etl/data/blocks0.csv --transactions-output /home/aadebuger/GEXTMAC/home/aadebuger/github2018/ethereum-etl/data/transactions0.csv\n",
      "2018-09-28 12:16:07,396 - ProgressLogger [INFO] - Started work. Items to process: 500001.\n",
      "2018-09-28 12:18:44,107 - ProgressLogger [INFO] - 50100 items processed. Progress is 10%.\n",
      "2018-09-28 12:19:05,380 - ProgressLogger [INFO] - 100100 items processed. Progress is 20%.\n",
      "2018-09-28 12:19:24,447 - ProgressLogger [INFO] - 150100 items processed. Progress is 30%.\n",
      "2018-09-28 12:19:47,987 - ProgressLogger [INFO] - 200100 items processed. Progress is 40%.\n",
      "2018-09-28 12:20:30,261 - ProgressLogger [INFO] - 250100 items processed. Progress is 50%.\n",
      "2018-09-28 12:20:59,001 - ProgressLogger [INFO] - 300100 items processed. Progress is 60%.\n",
      "2018-09-28 12:21:32,565 - ProgressLogger [INFO] - 350100 items processed. Progress is 70%.\n",
      "2018-09-28 12:22:07,185 - ProgressLogger [INFO] - 400100 items processed. Progress is 80%.\n",
      "2018-09-28 12:22:40,305 - ProgressLogger [INFO] - 450100 items processed. Progress is 90%.\n",
      "2018-09-28 12:23:21,109 - ProgressLogger [INFO] - 500001 items processed. Progress is 100%.\n",
      "2018-09-28 12:23:21,109 - ProgressLogger [INFO] - Finished work. Total items processed: 500001. Took 0:07:13.713773.\n",
      "2018-09-28 12:23:21,110 - CompositeItemExporter [INFO] - block items exported: 500001\n",
      "2018-09-28 12:23:21,110 - CompositeItemExporter [INFO] - transaction items exported: 504708\n"
     ]
    }
   ],
   "source": [
    "startb=0\n",
    "endb=500000\n",
    "command='~/ethereumvenv36/bin/python export_blocks_and_transactions.py --start-block '+str(startb)+' --end-block '+str(endb)+' --provider-uri file:/home/aadebuger/GEXTMAC/ethereum1t/data/geth.ipc --blocks-output /home/aadebuger/GEXTMAC/home/aadebuger/github2018/ethereum-etl/data/blocks'+str(startb)+'.csv --transactions-output /home/aadebuger/GEXTMAC/home/aadebuger/github2018/ethereum-etl/data/transactions'+str(startb)+'.csv'\n",
    "print(command)\n",
    "! $command"
   ]
  },
  {
   "cell_type": "code",
   "execution_count": 3,
   "metadata": {},
   "outputs": [
    {
     "name": "stdout",
     "output_type": "stream",
     "text": [
      "/bin/sh: 1: aa: not found\r\n"
     ]
    }
   ],
   "source": [
    "!aa"
   ]
  },
  {
   "cell_type": "code",
   "execution_count": 4,
   "metadata": {},
   "outputs": [
    {
     "name": "stdout",
     "output_type": "stream",
     "text": [
      "2018-09-27 14:33:33,741 - ProgressLogger [INFO] - Started work. Items to process: 100000.\n",
      "2018-09-27 14:42:44,983 - ProgressLogger [INFO] - 10000 items processed. Progress is 10%.\n",
      "2018-09-27 14:52:32,890 - ProgressLogger [INFO] - 20000 items processed. Progress is 20%.\n",
      "2018-09-27 15:02:14,693 - ProgressLogger [INFO] - 30000 items processed. Progress is 30%.\n",
      "2018-09-27 15:10:44,628 - ProgressLogger [INFO] - 40000 items processed. Progress is 40%.\n",
      "2018-09-27 15:20:11,892 - ProgressLogger [INFO] - 50000 items processed. Progress is 50%.\n",
      "2018-09-27 15:28:54,710 - ProgressLogger [INFO] - 60000 items processed. Progress is 60%.\n",
      "2018-09-27 15:36:31,899 - ProgressLogger [INFO] - 70000 items processed. Progress is 70%.\n",
      "2018-09-27 15:45:34,010 - ProgressLogger [INFO] - 80000 items processed. Progress is 80%.\n",
      "2018-09-27 15:53:21,623 - ProgressLogger [INFO] - 90000 items processed. Progress is 90%.\n",
      "2018-09-27 16:02:39,436 - ProgressLogger [INFO] - 100000 items processed. Progress is 100%.\n",
      "2018-09-27 16:02:39,439 - ProgressLogger [INFO] - Finished work. Total items processed: 100000. Took 1:29:05.696011.\n",
      "2018-09-27 16:02:39,439 - CompositeItemExporter [INFO] - block items exported: 100000\n",
      "2018-09-27 16:02:39,474 - CompositeItemExporter [INFO] - transaction items exported: 8505025\n"
     ]
    }
   ],
   "source": [
    "!python export_blocks_and_transactions.py --start-block 6300\\\n",
    "001 --end-block 6400000 --provider-uri file:/home/aadebuger/GEXTMAC/ethereum1t/data/geth.ipc --blocks-output /home/aadebuger/GEXTMAC/home/aadebuger/github2018/ethereum-etl/data/blocks6300001.csv --transactions-output /home/aadebuger/GEXTMAC/home/aadebuger/github2018/ethereum-etl/data/transactions6300001.csv\n"
   ]
  },
  {
   "cell_type": "code",
   "execution_count": 7,
   "metadata": {},
   "outputs": [
    {
     "name": "stdout",
     "output_type": "stream",
     "text": [
      "~/ethereumvenv36/bin/python export_blocks_and_transactions.py --start-block 500001 --end-block 1000000 --provider-uri file:/home/aadebuger/GEXTMAC/ethereum1t/data/geth.ipc --blocks-output /home/aadebuger/GEXTMAC/home/aadebuger/github2018/ethereum-etl/data/blocks500001.csv --transactions-output /home/aadebuger/GEXTMAC/home/aadebuger/github2018/ethereum-etl/data/transactions500001.csv\n",
      "2018-09-28 13:56:59,715 - ProgressLogger [INFO] - Started work. Items to process: 500000.\n",
      "2018-09-28 13:57:57,477 - ProgressLogger [INFO] - 50000 items processed. Progress is 10%.\n",
      "2018-09-28 13:58:45,337 - ProgressLogger [INFO] - 100000 items processed. Progress is 20%.\n",
      "2018-09-28 13:59:16,303 - ProgressLogger [INFO] - 150000 items processed. Progress is 30%.\n",
      "2018-09-28 13:59:55,925 - ProgressLogger [INFO] - 200000 items processed. Progress is 40%.\n",
      "2018-09-28 14:00:50,832 - ProgressLogger [INFO] - 250000 items processed. Progress is 50%.\n",
      "2018-09-28 14:01:41,834 - ProgressLogger [INFO] - 300000 items processed. Progress is 60%.\n",
      "2018-09-28 14:02:36,939 - ProgressLogger [INFO] - 350000 items processed. Progress is 70%.\n",
      "2018-09-28 14:03:23,705 - ProgressLogger [INFO] - 400000 items processed. Progress is 80%.\n",
      "2018-09-28 14:04:24,773 - ProgressLogger [INFO] - 450000 items processed. Progress is 90%.\n",
      "2018-09-28 14:05:29,560 - ProgressLogger [INFO] - 500000 items processed. Progress is 100%.\n",
      "2018-09-28 14:05:29,561 - ProgressLogger [INFO] - Finished work. Total items processed: 500000. Took 0:08:29.845683.\n",
      "2018-09-28 14:05:29,561 - CompositeItemExporter [INFO] - block items exported: 500000\n",
      "2018-09-28 14:05:29,561 - CompositeItemExporter [INFO] - transaction items exported: 1169556\n"
     ]
    }
   ],
   "source": [
    "startb=500001\n",
    "endb=1000000\n",
    "command='~/ethereumvenv36/bin/python export_blocks_and_transactions.py --start-block '+str(startb)+' --end-block '+str(endb)+' --provider-uri file:/home/aadebuger/GEXTMAC/ethereum1t/data/geth.ipc --blocks-output /home/aadebuger/GEXTMAC/home/aadebuger/github2018/ethereum-etl/data/blocks'+str(startb)+'.csv --transactions-output /home/aadebuger/GEXTMAC/home/aadebuger/github2018/ethereum-etl/data/transactions'+str(startb)+'.csv'\n",
    "print(command)\n",
    "! $command"
   ]
  },
  {
   "cell_type": "code",
   "execution_count": 8,
   "metadata": {},
   "outputs": [
    {
     "name": "stdout",
     "output_type": "stream",
     "text": [
      "~/ethereumvenv36/bin/python export_blocks_and_transactions.py --start-block 1000001 --end-block 1500000 --provider-uri file:/home/aadebuger/GEXTMAC/ethereum1t/data/geth.ipc --blocks-output /home/aadebuger/GEXTMAC/home/aadebuger/github2018/ethereum-etl/data/blocks1000001.csv --transactions-output /home/aadebuger/GEXTMAC/home/aadebuger/github2018/ethereum-etl/data/transactions1000001.csv\n",
      "2018-09-28 14:10:47,388 - ProgressLogger [INFO] - Started work. Items to process: 500000.\n",
      "2018-09-28 14:11:36,223 - ProgressLogger [INFO] - 50000 items processed. Progress is 10%.\n",
      "2018-09-28 14:12:51,970 - ProgressLogger [INFO] - 100000 items processed. Progress is 20%.\n",
      "2018-09-28 14:14:15,115 - ProgressLogger [INFO] - 150000 items processed. Progress is 30%.\n",
      "2018-09-28 14:15:40,451 - ProgressLogger [INFO] - 200000 items processed. Progress is 40%.\n",
      "2018-09-28 14:17:13,498 - ProgressLogger [INFO] - 250000 items processed. Progress is 50%.\n",
      "2018-09-28 14:18:42,259 - ProgressLogger [INFO] - 300000 items processed. Progress is 60%.\n",
      "2018-09-28 14:20:11,352 - ProgressLogger [INFO] - 350000 items processed. Progress is 70%.\n",
      "2018-09-28 14:21:48,256 - ProgressLogger [INFO] - 400000 items processed. Progress is 80%.\n",
      "2018-09-28 14:23:30,003 - ProgressLogger [INFO] - 450000 items processed. Progress is 90%.\n",
      "2018-09-28 14:25:13,790 - ProgressLogger [INFO] - 500000 items processed. Progress is 100%.\n",
      "2018-09-28 14:25:13,790 - ProgressLogger [INFO] - Finished work. Total items processed: 500000. Took 0:14:26.402560.\n",
      "2018-09-28 14:25:13,790 - CompositeItemExporter [INFO] - block items exported: 500000\n",
      "2018-09-28 14:25:13,791 - CompositeItemExporter [INFO] - transaction items exported: 2666887\n"
     ]
    }
   ],
   "source": [
    "startb=1000001\n",
    "endb=1500000\n",
    "command='~/ethereumvenv36/bin/python export_blocks_and_transactions.py --start-block '+str(startb)+' --end-block '+str(endb)+' --provider-uri file:/home/aadebuger/GEXTMAC/ethereum1t/data/geth.ipc --blocks-output /home/aadebuger/GEXTMAC/home/aadebuger/github2018/ethereum-etl/data/blocks'+str(startb)+'.csv --transactions-output /home/aadebuger/GEXTMAC/home/aadebuger/github2018/ethereum-etl/data/transactions'+str(startb)+'.csv'\n",
    "print(command)\n",
    "! $command"
   ]
  },
  {
   "cell_type": "code",
   "execution_count": 9,
   "metadata": {},
   "outputs": [
    {
     "name": "stdout",
     "output_type": "stream",
     "text": [
      "~/ethereumvenv36/bin/python export_blocks_and_transactions.py --start-block 1500001 --end-block 2000000 --provider-uri file:/home/aadebuger/GEXTMAC/ethereum1t/data/geth.ipc --blocks-output /home/aadebuger/GEXTMAC/home/aadebuger/github2018/ethereum-etl/data/blocks1500001.csv --transactions-output /home/aadebuger/GEXTMAC/home/aadebuger/github2018/ethereum-etl/data/transactions1500001.csv\n",
      "2018-09-28 15:51:45,130 - ProgressLogger [INFO] - Started work. Items to process: 500000.\n",
      "2018-09-28 15:57:21,657 - ProgressLogger [INFO] - 50000 items processed. Progress is 10%.\n",
      "2018-09-28 15:59:10,342 - ProgressLogger [INFO] - 100000 items processed. Progress is 20%.\n",
      "2018-09-28 16:00:57,789 - ProgressLogger [INFO] - 150000 items processed. Progress is 30%.\n",
      "2018-09-28 16:02:36,393 - ProgressLogger [INFO] - 200000 items processed. Progress is 40%.\n",
      "2018-09-28 16:04:41,373 - ProgressLogger [INFO] - 250000 items processed. Progress is 50%.\n",
      "2018-09-28 16:06:32,743 - ProgressLogger [INFO] - 300000 items processed. Progress is 60%.\n",
      "2018-09-28 16:08:19,846 - ProgressLogger [INFO] - 350000 items processed. Progress is 70%.\n",
      "2018-09-28 16:10:09,800 - ProgressLogger [INFO] - 400000 items processed. Progress is 80%.\n",
      "2018-09-28 16:12:02,651 - ProgressLogger [INFO] - 450000 items processed. Progress is 90%.\n",
      "2018-09-28 16:14:12,739 - ProgressLogger [INFO] - 500000 items processed. Progress is 100%.\n",
      "2018-09-28 16:14:12,740 - ProgressLogger [INFO] - Finished work. Total items processed: 500000. Took 0:22:27.609861.\n",
      "2018-09-28 16:14:12,740 - CompositeItemExporter [INFO] - block items exported: 500000\n",
      "2018-09-28 16:14:12,740 - CompositeItemExporter [INFO] - transaction items exported: 3716240\n"
     ]
    }
   ],
   "source": [
    "startb=1500001\n",
    "endb=2000000\n",
    "command='~/ethereumvenv36/bin/python export_blocks_and_transactions.py --start-block '+str(startb)+' --end-block '+str(endb)+' --provider-uri file:/home/aadebuger/GEXTMAC/ethereum1t/data/geth.ipc --blocks-output /home/aadebuger/GEXTMAC/home/aadebuger/github2018/ethereum-etl/data/blocks'+str(startb)+'.csv --transactions-output /home/aadebuger/GEXTMAC/home/aadebuger/github2018/ethereum-etl/data/transactions'+str(startb)+'.csv'\n",
    "print(command)\n",
    "! $command"
   ]
  },
  {
   "cell_type": "code",
   "execution_count": 10,
   "metadata": {},
   "outputs": [
    {
     "name": "stdout",
     "output_type": "stream",
     "text": [
      "~/ethereumvenv36/bin/python export_blocks_and_transactions.py --start-block 2000001 --end-block 2500000 --provider-uri file:/home/aadebuger/GEXTMAC/ethereum1t/data/geth.ipc --blocks-output /home/aadebuger/GEXTMAC/home/aadebuger/github2018/ethereum-etl/data/blocks2000001.csv --transactions-output /home/aadebuger/GEXTMAC/home/aadebuger/github2018/ethereum-etl/data/transactions2000001.csv\n",
      "2018-09-28 16:16:17,308 - ProgressLogger [INFO] - Started work. Items to process: 500000.\n",
      "2018-09-28 16:18:03,014 - ProgressLogger [INFO] - 50000 items processed. Progress is 10%.\n",
      "2018-09-28 16:19:55,014 - ProgressLogger [INFO] - 100000 items processed. Progress is 20%.\n",
      "2018-09-28 16:21:52,679 - ProgressLogger [INFO] - 150000 items processed. Progress is 30%.\n",
      "2018-09-28 16:23:49,110 - ProgressLogger [INFO] - 200000 items processed. Progress is 40%.\n",
      "2018-09-28 16:25:51,913 - ProgressLogger [INFO] - 250000 items processed. Progress is 50%.\n",
      "2018-09-28 16:28:00,462 - ProgressLogger [INFO] - 300000 items processed. Progress is 60%.\n",
      "2018-09-28 16:29:55,390 - ProgressLogger [INFO] - 350000 items processed. Progress is 70%.\n",
      "2018-09-28 16:32:07,081 - ProgressLogger [INFO] - 400000 items processed. Progress is 80%.\n",
      "2018-09-28 16:34:46,810 - ProgressLogger [INFO] - 450000 items processed. Progress is 90%.\n",
      "2018-09-28 16:36:44,759 - ProgressLogger [INFO] - 500000 items processed. Progress is 100%.\n",
      "2018-09-28 16:36:44,760 - ProgressLogger [INFO] - Finished work. Total items processed: 500000. Took 0:20:27.451603.\n",
      "2018-09-28 16:36:44,760 - CompositeItemExporter [INFO] - block items exported: 500000\n",
      "2018-09-28 16:36:44,760 - CompositeItemExporter [INFO] - transaction items exported: 3718501\n"
     ]
    }
   ],
   "source": [
    "startb=2000001\n",
    "endb=2500000\n",
    "command='~/ethereumvenv36/bin/python export_blocks_and_transactions.py --start-block '+str(startb)+' --end-block '+str(endb)+' --provider-uri file:/home/aadebuger/GEXTMAC/ethereum1t/data/geth.ipc --blocks-output /home/aadebuger/GEXTMAC/home/aadebuger/github2018/ethereum-etl/data/blocks'+str(startb)+'.csv --transactions-output /home/aadebuger/GEXTMAC/home/aadebuger/github2018/ethereum-etl/data/transactions'+str(startb)+'.csv'\n",
    "print(command)\n",
    "! $command"
   ]
  },
  {
   "cell_type": "code",
   "execution_count": 11,
   "metadata": {},
   "outputs": [
    {
     "name": "stdout",
     "output_type": "stream",
     "text": [
      "~/ethereumvenv36/bin/python export_blocks_and_transactions.py --start-block 2500001 --end-block 3000000 --provider-uri file:/home/aadebuger/GEXTMAC/ethereum1t/data/geth.ipc --blocks-output /home/aadebuger/GEXTMAC/home/aadebuger/github2018/ethereum-etl/data/blocks2500001.csv --transactions-output /home/aadebuger/GEXTMAC/home/aadebuger/github2018/ethereum-etl/data/transactions2500001.csv\n",
      "2018-09-28 18:27:01,769 - ProgressLogger [INFO] - Started work. Items to process: 500000.\n",
      "2018-09-28 18:32:02,376 - ProgressLogger [INFO] - 50000 items processed. Progress is 10%.\n",
      "2018-09-28 18:33:44,159 - ProgressLogger [INFO] - 100000 items processed. Progress is 20%.\n",
      "2018-09-28 18:35:39,242 - ProgressLogger [INFO] - 150000 items processed. Progress is 30%.\n",
      "2018-09-28 18:37:36,467 - ProgressLogger [INFO] - 200000 items processed. Progress is 40%.\n",
      "2018-09-28 18:39:32,213 - ProgressLogger [INFO] - 250000 items processed. Progress is 50%.\n",
      "2018-09-28 18:41:50,708 - ProgressLogger [INFO] - 300000 items processed. Progress is 60%.\n",
      "2018-09-28 18:43:59,568 - ProgressLogger [INFO] - 350000 items processed. Progress is 70%.\n",
      "2018-09-28 18:46:50,950 - ProgressLogger [INFO] - 400000 items processed. Progress is 80%.\n",
      "2018-09-28 18:49:58,090 - ProgressLogger [INFO] - 450000 items processed. Progress is 90%.\n",
      "2018-09-28 18:52:47,507 - ProgressLogger [INFO] - 500000 items processed. Progress is 100%.\n",
      "2018-09-28 18:52:47,508 - ProgressLogger [INFO] - Finished work. Total items processed: 500000. Took 0:25:45.738462.\n",
      "2018-09-28 18:52:47,508 - CompositeItemExporter [INFO] - block items exported: 500000\n",
      "2018-09-28 18:52:47,508 - CompositeItemExporter [INFO] - transaction items exported: 3586961\n"
     ]
    }
   ],
   "source": [
    "startb=2500001\n",
    "endb=3000000\n",
    "command='~/ethereumvenv36/bin/python export_blocks_and_transactions.py --start-block '+str(startb)+' --end-block '+str(endb)+' --provider-uri file:/home/aadebuger/GEXTMAC/ethereum1t/data/geth.ipc --blocks-output /home/aadebuger/GEXTMAC/home/aadebuger/github2018/ethereum-etl/data/blocks'+str(startb)+'.csv --transactions-output /home/aadebuger/GEXTMAC/home/aadebuger/github2018/ethereum-etl/data/transactions'+str(startb)+'.csv'\n",
    "print(command)\n",
    "! $command"
   ]
  },
  {
   "cell_type": "code",
   "execution_count": 12,
   "metadata": {},
   "outputs": [
    {
     "name": "stdout",
     "output_type": "stream",
     "text": [
      "~/ethereumvenv36/bin/python export_blocks_and_transactions.py --start-block 3000001 --end-block 3500000 --provider-uri file:/home/aadebuger/GEXTMAC/ethereum1t/data/geth.ipc --blocks-output /home/aadebuger/GEXTMAC/home/aadebuger/github2018/ethereum-etl/data/blocks3000001.csv --transactions-output /home/aadebuger/GEXTMAC/home/aadebuger/github2018/ethereum-etl/data/transactions3000001.csv\n",
      "2018-09-28 18:55:57,298 - ProgressLogger [INFO] - Started work. Items to process: 500000.\n",
      "2018-09-28 18:58:09,749 - ProgressLogger [INFO] - 50000 items processed. Progress is 10%.\n",
      "2018-09-28 19:00:24,574 - ProgressLogger [INFO] - 100000 items processed. Progress is 20%.\n",
      "2018-09-28 19:02:51,725 - ProgressLogger [INFO] - 150000 items processed. Progress is 30%.\n",
      "2018-09-28 19:05:16,009 - ProgressLogger [INFO] - 200000 items processed. Progress is 40%.\n",
      "2018-09-28 19:07:48,886 - ProgressLogger [INFO] - 250000 items processed. Progress is 50%.\n",
      "2018-09-28 19:10:24,407 - ProgressLogger [INFO] - 300000 items processed. Progress is 60%.\n",
      "2018-09-28 19:13:14,776 - ProgressLogger [INFO] - 350000 items processed. Progress is 70%.\n",
      "2018-09-28 19:16:58,438 - ProgressLogger [INFO] - 400000 items processed. Progress is 80%.\n",
      "2018-09-28 19:20:40,697 - ProgressLogger [INFO] - 450000 items processed. Progress is 90%.\n",
      "2018-09-28 19:24:31,620 - ProgressLogger [INFO] - 500000 items processed. Progress is 100%.\n",
      "2018-09-28 19:24:31,621 - ProgressLogger [INFO] - Finished work. Total items processed: 500000. Took 0:28:34.322916.\n",
      "2018-09-28 19:24:31,621 - CompositeItemExporter [INFO] - block items exported: 500000\n",
      "2018-09-28 19:24:31,621 - CompositeItemExporter [INFO] - transaction items exported: 5270757\n"
     ]
    }
   ],
   "source": [
    "startb=3000001\n",
    "endb=3500000\n",
    "command='~/ethereumvenv36/bin/python export_blocks_and_transactions.py --start-block '+str(startb)+' --end-block '+str(endb)+' --provider-uri file:/home/aadebuger/GEXTMAC/ethereum1t/data/geth.ipc --blocks-output /home/aadebuger/GEXTMAC/home/aadebuger/github2018/ethereum-etl/data/blocks'+str(startb)+'.csv --transactions-output /home/aadebuger/GEXTMAC/home/aadebuger/github2018/ethereum-etl/data/transactions'+str(startb)+'.csv'\n",
    "print(command)\n",
    "! $command"
   ]
  },
  {
   "cell_type": "code",
   "execution_count": 13,
   "metadata": {},
   "outputs": [
    {
     "name": "stdout",
     "output_type": "stream",
     "text": [
      "~/ethereumvenv36/bin/python export_blocks_and_transactions.py --start-block 3500001 --end-block 4000000 --provider-uri file:/home/aadebuger/GEXTMAC/ethereum1t/data/geth.ipc --blocks-output /home/aadebuger/GEXTMAC/home/aadebuger/github2018/ethereum-etl/data/blocks3500001.csv --transactions-output /home/aadebuger/GEXTMAC/home/aadebuger/github2018/ethereum-etl/data/transactions3500001.csv\n",
      "2018-09-29 08:54:34,588 - ProgressLogger [INFO] - Started work. Items to process: 500000.\n",
      "2018-09-29 08:57:50,194 - ProgressLogger [INFO] - 50000 items processed. Progress is 10%.\n",
      "2018-09-29 09:01:25,315 - ProgressLogger [INFO] - 100000 items processed. Progress is 20%.\n",
      "2018-09-29 09:06:00,621 - ProgressLogger [INFO] - 150000 items processed. Progress is 30%.\n",
      "2018-09-29 09:12:39,078 - ProgressLogger [INFO] - 200000 items processed. Progress is 40%.\n",
      "2018-09-29 09:22:50,855 - ProgressLogger [INFO] - 250000 items processed. Progress is 50%.\n",
      "2018-09-29 09:33:32,340 - ProgressLogger [INFO] - 300000 items processed. Progress is 60%.\n",
      "2018-09-29 09:46:42,007 - ProgressLogger [INFO] - 350000 items processed. Progress is 70%.\n",
      "2018-09-29 10:03:23,448 - ProgressLogger [INFO] - 400000 items processed. Progress is 80%.\n",
      "2018-09-29 10:19:52,314 - ProgressLogger [INFO] - 450000 items processed. Progress is 90%.\n",
      "2018-09-29 10:39:08,965 - ProgressLogger [INFO] - 500000 items processed. Progress is 100%.\n",
      "2018-09-29 10:39:08,968 - ProgressLogger [INFO] - Finished work. Total items processed: 500000. Took 1:44:34.378367.\n",
      "2018-09-29 10:39:08,968 - CompositeItemExporter [INFO] - block items exported: 500000\n",
      "2018-09-29 10:39:08,968 - CompositeItemExporter [INFO] - transaction items exported: 15700933\n"
     ]
    }
   ],
   "source": [
    "startb=3500001\n",
    "endb=4000000\n",
    "command='~/ethereumvenv36/bin/python export_blocks_and_transactions.py --start-block '+str(startb)+' --end-block '+str(endb)+' --provider-uri file:/home/aadebuger/GEXTMAC/ethereum1t/data/geth.ipc --blocks-output /home/aadebuger/GEXTMAC/home/aadebuger/github2018/ethereum-etl/data/blocks'+str(startb)+'.csv --transactions-output /home/aadebuger/GEXTMAC/home/aadebuger/github2018/ethereum-etl/data/transactions'+str(startb)+'.csv'\n",
    "print(command)\n",
    "! $command"
   ]
  },
  {
   "cell_type": "code",
   "execution_count": null,
   "metadata": {},
   "outputs": [
    {
     "name": "stdout",
     "output_type": "stream",
     "text": [
      "~/ethereumvenv36/bin/python export_blocks_and_transactions.py --start-block 4000001 --end-block 4500000 --provider-uri file:/home/aadebuger/GEXTMAC/ethereum1t/data/geth.ipc --blocks-output /home/aadebuger/GEXTMAC/home/aadebuger/github2018/ethereum-etl/data/blocks4000001.csv --transactions-output /home/aadebuger/GEXTMAC/home/aadebuger/github2018/ethereum-etl/data/transactions4000001.csv\n",
      "2018-09-29 11:48:34,300 - ProgressLogger [INFO] - Started work. Items to process: 500000.\n",
      "2018-09-29 12:08:27,632 - ProgressLogger [INFO] - 50000 items processed. Progress is 10%.\n",
      "2018-09-29 12:24:36,225 - ProgressLogger [INFO] - 100000 items processed. Progress is 20%.\n",
      "2018-09-29 12:48:50,689 - ProgressLogger [INFO] - 150000 items processed. Progress is 30%.\n",
      "2018-09-29 13:23:52,860 - ProgressLogger [INFO] - 200000 items processed. Progress is 40%.\n",
      "2018-09-29 14:12:17,714 - ProgressLogger [INFO] - 250000 items processed. Progress is 50%.\n",
      "2018-09-29 14:57:35,960 - ProgressLogger [INFO] - 300000 items processed. Progress is 60%.\n",
      "2018-09-29 15:47:24,588 - ProgressLogger [INFO] - 350000 items processed. Progress is 70%.\n"
     ]
    }
   ],
   "source": [
    "startb=4000001\n",
    "endb=4500000\n",
    "command='~/ethereumvenv36/bin/python export_blocks_and_transactions.py --start-block '+str(startb)+' --end-block '+str(endb)+' --provider-uri file:/home/aadebuger/GEXTMAC/ethereum1t/data/geth.ipc --blocks-output /home/aadebuger/GEXTMAC/home/aadebuger/github2018/ethereum-etl/data/blocks'+str(startb)+'.csv --transactions-output /home/aadebuger/GEXTMAC/home/aadebuger/github2018/ethereum-etl/data/transactions'+str(startb)+'.csv'\n",
    "print(command)\n",
    "! $command"
   ]
  },
  {
   "cell_type": "code",
   "execution_count": null,
   "metadata": {},
   "outputs": [],
   "source": [
    "startb=4500001\n",
    "endb=5000000\n",
    "command='~/ethereumvenv36/bin/python export_blocks_and_transactions.py --start-block '+str(startb)+' --end-block '+str(endb)+' --provider-uri file:/home/aadebuger/GEXTMAC/ethereum1t/data/geth.ipc --blocks-output /home/aadebuger/GEXTMAC/home/aadebuger/github2018/ethereum-etl/data/blocks'+str(startb)+'.csv --transactions-output /home/aadebuger/GEXTMAC/home/aadebuger/github2018/ethereum-etl/data/transactions'+str(startb)+'.csv'\n",
    "print(command)\n",
    "! $command"
   ]
  },
  {
   "cell_type": "code",
   "execution_count": null,
   "metadata": {},
   "outputs": [],
   "source": []
  }
 ],
 "metadata": {
  "kernelspec": {
   "display_name": "Python 3",
   "language": "python",
   "name": "python3"
  },
  "language_info": {
   "codemirror_mode": {
    "name": "ipython",
    "version": 3
   },
   "file_extension": ".py",
   "mimetype": "text/x-python",
   "name": "python",
   "nbconvert_exporter": "python",
   "pygments_lexer": "ipython3",
   "version": "3.6.5"
  }
 },
 "nbformat": 4,
 "nbformat_minor": 2
}
