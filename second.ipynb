{
 "cells": [
  {
   "cell_type": "code",
   "execution_count": 2,
   "metadata": {},
   "outputs": [
    {
     "name": "stdout",
     "output_type": "stream",
     "text": [
      "2018-09-08 14:21:47,119 - ProgressLogger [INFO] - Started work. Items to process: 500001.\n",
      "2018-09-08 14:23:51,530 - ProgressLogger [INFO] - 50100 items processed. Progress is 10%.\n",
      "2018-09-08 14:25:15,799 - ProgressLogger [INFO] - 100100 items processed. Progress is 20%.\n",
      "2018-09-08 14:26:49,209 - ProgressLogger [INFO] - 150100 items processed. Progress is 30%.\n",
      "2018-09-08 14:29:27,150 - ProgressLogger [INFO] - 200050 items processed. Progress is 40%.\n",
      "2018-09-08 14:31:51,439 - ProgressLogger [INFO] - 250050 items processed. Progress is 50%.\n",
      "2018-09-08 14:33:47,851 - ProgressLogger [INFO] - 300050 items processed. Progress is 60%.\n",
      "2018-09-08 14:36:36,792 - ProgressLogger [INFO] - 350050 items processed. Progress is 70%.\n",
      "2018-09-08 14:38:41,485 - ProgressLogger [INFO] - 400050 items processed. Progress is 80%.\n",
      "2018-09-08 14:41:03,521 - ProgressLogger [INFO] - 450050 items processed. Progress is 90%.\n",
      "2018-09-08 14:43:37,287 - ProgressLogger [INFO] - 500001 items processed. Progress is 100%.\n",
      "2018-09-08 14:43:37,289 - ProgressLogger [INFO] - Finished work. Total items processed: 500001. Took 0:21:50.169648.\n",
      "2018-09-08 14:43:37,289 - CompositeItemExporter [INFO] - block items exported: 500001\n",
      "2018-09-08 14:43:37,289 - CompositeItemExporter [INFO] - transaction items exported: 504708\n"
     ]
    }
   ],
   "source": [
    "!~/GEXT/ethereumvenv3/bin/python export_blocks_and_transactions.py --start-block 0 --end-block 500000 \\\n",
    "--provider-uri https://mainnet.infura.io --blocks-output data/blocks.csv --transactions-output data/transactions.csv"
   ]
  },
  {
   "cell_type": "code",
   "execution_count": 3,
   "metadata": {},
   "outputs": [
    {
     "name": "stdout",
     "output_type": "stream",
     "text": [
      "2018-09-08 14:44:36,925 - ProgressLogger [INFO] - Started work. Items to process: 500000.\n",
      "2018-09-08 14:48:11,768 - ProgressLogger [INFO] - 50000 items processed. Progress is 10%.\n",
      "2018-09-08 14:50:20,957 - ProgressLogger [INFO] - 100000 items processed. Progress is 20%.\n",
      "2018-09-08 14:51:48,073 - ProgressLogger [INFO] - 150000 items processed. Progress is 30%.\n",
      "2018-09-08 14:53:10,951 - ProgressLogger [INFO] - 200000 items processed. Progress is 40%.\n",
      "2018-09-08 14:54:28,565 - ProgressLogger [INFO] - 250000 items processed. Progress is 50%.\n",
      "2018-09-08 14:56:21,338 - ProgressLogger [INFO] - 300000 items processed. Progress is 60%.\n",
      "2018-09-08 14:57:45,326 - ProgressLogger [INFO] - 350000 items processed. Progress is 70%.\n",
      "2018-09-08 14:58:57,905 - ProgressLogger [INFO] - 400000 items processed. Progress is 80%.\n",
      "2018-09-08 15:00:35,344 - ProgressLogger [INFO] - 450000 items processed. Progress is 90%.\n",
      "2018-09-08 15:03:43,847 - ProgressLogger [INFO] - 500000 items processed. Progress is 100%.\n",
      "2018-09-08 15:03:43,848 - ProgressLogger [INFO] - Finished work. Total items processed: 500000. Took 0:19:06.922455.\n",
      "2018-09-08 15:03:43,848 - CompositeItemExporter [INFO] - block items exported: 500000\n",
      "2018-09-08 15:03:43,848 - CompositeItemExporter [INFO] - transaction items exported: 1169556\n"
     ]
    }
   ],
   "source": [
    "!~/GEXT/ethereumvenv3/bin/python export_blocks_and_transactions.py --start-block 500001 --end-block 1000000 \\\n",
    "--provider-uri https://mainnet.infura.io --blocks-output data/blocks500001.csv --transactions-output data/transactions500001.csv"
   ]
  },
  {
   "cell_type": "code",
   "execution_count": 4,
   "metadata": {},
   "outputs": [
    {
     "name": "stdout",
     "output_type": "stream",
     "text": [
      "2018-09-08 15:04:48,378 - ProgressLogger [INFO] - Started work. Items to process: 500000.\n",
      "2018-09-08 15:07:06,616 - ProgressLogger [INFO] - 50000 items processed. Progress is 10%.\n",
      "2018-09-08 15:10:11,102 - ProgressLogger [INFO] - 100000 items processed. Progress is 20%.\n",
      "2018-09-08 15:14:00,063 - ProgressLogger [INFO] - 150000 items processed. Progress is 30%.\n",
      "2018-09-08 15:19:22,801 - ProgressLogger [INFO] - 200000 items processed. Progress is 40%.\n",
      "2018-09-08 15:25:06,640 - ProgressLogger [INFO] - 250000 items processed. Progress is 50%.\n",
      "2018-09-08 15:29:21,029 - ProgressLogger [INFO] - 300000 items processed. Progress is 60%.\n",
      "2018-09-08 15:33:24,598 - ProgressLogger [INFO] - 350000 items processed. Progress is 70%.\n",
      "2018-09-08 15:36:38,483 - ProgressLogger [INFO] - 400000 items processed. Progress is 80%.\n",
      "2018-09-08 15:39:47,866 - ProgressLogger [INFO] - 450000 items processed. Progress is 90%.\n",
      "2018-09-08 15:43:25,536 - ProgressLogger [INFO] - 500000 items processed. Progress is 100%.\n",
      "2018-09-08 15:43:25,536 - ProgressLogger [INFO] - Finished work. Total items processed: 500000. Took 0:38:37.158285.\n",
      "2018-09-08 15:43:25,537 - CompositeItemExporter [INFO] - block items exported: 500000\n",
      "2018-09-08 15:43:25,540 - CompositeItemExporter [INFO] - transaction items exported: 2666887\n"
     ]
    }
   ],
   "source": [
    "!~/GEXT/ethereumvenv3/bin/python export_blocks_and_transactions.py --start-block 1000001 --end-block 1500000 \\\n",
    "--provider-uri https://mainnet.infura.io --blocks-output data/blocks1000001.csv --transactions-output data/transactions1000001.csv"
   ]
  },
  {
   "cell_type": "code",
   "execution_count": 5,
   "metadata": {},
   "outputs": [
    {
     "name": "stdout",
     "output_type": "stream",
     "text": [
      "2018-09-08 15:44:45,954 - ProgressLogger [INFO] - Started work. Items to process: 500000.\n",
      "2018-09-08 15:47:04,712 - ProgressLogger [INFO] - 50000 items processed. Progress is 10%.\n",
      "2018-09-08 15:49:25,382 - ProgressLogger [INFO] - 100000 items processed. Progress is 20%.\n",
      "2018-09-08 15:52:02,955 - ProgressLogger [INFO] - 150000 items processed. Progress is 30%.\n",
      "2018-09-08 15:54:41,508 - ProgressLogger [INFO] - 200000 items processed. Progress is 40%.\n",
      "2018-09-08 16:00:57,826 - ProgressLogger [INFO] - 250000 items processed. Progress is 50%.\n",
      "2018-09-08 16:04:30,181 - ProgressLogger [INFO] - 300000 items processed. Progress is 60%.\n",
      "2018-09-08 16:07:37,840 - ProgressLogger [INFO] - 350000 items processed. Progress is 70%.\n",
      "2018-09-08 16:10:41,925 - ProgressLogger [INFO] - 400000 items processed. Progress is 80%.\n",
      "2018-09-08 16:17:42,202 - ProgressLogger [INFO] - 450000 items processed. Progress is 90%.\n",
      "2018-09-08 16:23:39,839 - ProgressLogger [INFO] - 500000 items processed. Progress is 100%.\n",
      "2018-09-08 16:23:39,839 - ProgressLogger [INFO] - Finished work. Total items processed: 500000. Took 0:38:53.884676.\n",
      "2018-09-08 16:23:39,840 - CompositeItemExporter [INFO] - block items exported: 500000\n",
      "2018-09-08 16:23:39,841 - CompositeItemExporter [INFO] - transaction items exported: 3716240\n"
     ]
    }
   ],
   "source": [
    "!~/GEXT/ethereumvenv3/bin/python export_blocks_and_transactions.py --start-block 1500001 --end-block 2000000 \\\n",
    "--provider-uri https://mainnet.infura.io --blocks-output data/blocks1500001.csv --transactions-output data/transactions1500001.csv   "
   ]
  },
  {
   "cell_type": "code",
   "execution_count": 1,
   "metadata": {},
   "outputs": [
    {
     "name": "stdout",
     "output_type": "stream",
     "text": [
      "2018-09-08 16:48:31,445 - ProgressLogger [INFO] - Started work. Items to process: 500000.\n",
      "2018-09-08 16:50:40,424 - ProgressLogger [INFO] - 50000 items processed. Progress is 10%.\n",
      "2018-09-08 16:53:02,581 - ProgressLogger [INFO] - 100000 items processed. Progress is 20%.\n",
      "2018-09-08 16:56:30,448 - ProgressLogger [INFO] - 150000 items processed. Progress is 30%.\n",
      "2018-09-08 16:59:35,656 - ProgressLogger [INFO] - 200000 items processed. Progress is 40%.\n",
      "2018-09-08 17:02:26,473 - ProgressLogger [INFO] - 250000 items processed. Progress is 50%.\n",
      "2018-09-08 17:05:33,817 - ProgressLogger [INFO] - 300000 items processed. Progress is 60%.\n",
      "2018-09-08 17:08:53,861 - ProgressLogger [INFO] - 350000 items processed. Progress is 70%.\n",
      "2018-09-08 17:12:13,450 - ProgressLogger [INFO] - 400000 items processed. Progress is 80%.\n",
      "2018-09-08 17:15:39,514 - ProgressLogger [INFO] - 450000 items processed. Progress is 90%.\n",
      "2018-09-08 17:18:46,585 - ProgressLogger [INFO] - 500000 items processed. Progress is 100%.\n",
      "2018-09-08 17:18:46,606 - ProgressLogger [INFO] - Finished work. Total items processed: 500000. Took 0:30:15.160695.\n",
      "2018-09-08 17:18:46,607 - CompositeItemExporter [INFO] - block items exported: 500000\n",
      "2018-09-08 17:18:46,608 - CompositeItemExporter [INFO] - transaction items exported: 3718501\n"
     ]
    }
   ],
   "source": [
    "!~/GEXT/ethereumvenv3/bin/python export_blocks_and_transactions.py --start-block 2000001 --end-block 2500000 \\\n",
    "--provider-uri https://mainnet.infura.io --blocks-output data/blocks2000001.csv --transactions-output data/transactions2000001.csv "
   ]
  },
  {
   "cell_type": "code",
   "execution_count": null,
   "metadata": {},
   "outputs": [
    {
     "name": "stdout",
     "output_type": "stream",
     "text": [
      "2018-09-08 16:28:38,817 - ProgressLogger [INFO] - Started work. Items to process: 500000.\r\n"
     ]
    }
   ],
   "source": [
    "!~/GEXT/ethereumvenv3/bin/python export_blocks_and_transactions.py --start-block 6000001 --end-block 6500000 \\\n",
    "--provider-uri https://mainnet.infura.io --blocks-output data/blocks6000001.csv --transactions-output data/transactions6000001.csv "
   ]
  },
  {
   "cell_type": "code",
   "execution_count": 2,
   "metadata": {},
   "outputs": [
    {
     "name": "stdout",
     "output_type": "stream",
     "text": [
      "2018-09-08 17:19:54,112 - ProgressLogger [INFO] - Started work. Items to process: 500000.\n",
      "2018-09-08 17:21:58,161 - ProgressLogger [INFO] - 50000 items processed. Progress is 10%.\n",
      "2018-09-08 17:23:52,151 - ProgressLogger [INFO] - 100000 items processed. Progress is 20%.\n",
      "2018-09-08 17:25:45,216 - ProgressLogger [INFO] - 150000 items processed. Progress is 30%.\n",
      "2018-09-08 17:27:56,635 - ProgressLogger [INFO] - 200000 items processed. Progress is 40%.\n",
      "2018-09-08 17:30:07,962 - ProgressLogger [INFO] - 250000 items processed. Progress is 50%.\n",
      "2018-09-08 17:32:17,639 - ProgressLogger [INFO] - 300000 items processed. Progress is 60%.\n",
      "2018-09-08 17:35:00,995 - ProgressLogger [INFO] - 350000 items processed. Progress is 70%.\n",
      "2018-09-08 17:37:28,870 - ProgressLogger [INFO] - 400000 items processed. Progress is 80%.\n",
      "2018-09-08 17:39:58,357 - ProgressLogger [INFO] - 450000 items processed. Progress is 90%.\n",
      "2018-09-08 17:42:26,040 - ProgressLogger [INFO] - 500000 items processed. Progress is 100%.\n",
      "2018-09-08 17:42:26,041 - ProgressLogger [INFO] - Finished work. Total items processed: 500000. Took 0:22:31.929355.\n",
      "2018-09-08 17:42:26,045 - CompositeItemExporter [INFO] - block items exported: 500000\n",
      "2018-09-08 17:42:26,052 - CompositeItemExporter [INFO] - transaction items exported: 3586961\n"
     ]
    }
   ],
   "source": [
    "!~/GEXT/ethereumvenv3/bin/python export_blocks_and_transactions.py --start-block 2500001 --end-block 3000000 \\\n",
    "--provider-uri https://mainnet.infura.io --blocks-output data/blocks2500001.csv --transactions-output data/transactions2500001.csv "
   ]
  },
  {
   "cell_type": "code",
   "execution_count": 3,
   "metadata": {},
   "outputs": [
    {
     "name": "stdout",
     "output_type": "stream",
     "text": [
      "2018-09-08 17:47:52,406 - ProgressLogger [INFO] - Started work. Items to process: 500000.\n",
      "2018-09-08 17:49:54,410 - ProgressLogger [INFO] - 50000 items processed. Progress is 10%.\n",
      "2018-09-08 17:52:26,044 - ProgressLogger [INFO] - 100000 items processed. Progress is 20%.\n",
      "2018-09-08 17:54:45,590 - ProgressLogger [INFO] - 150000 items processed. Progress is 30%.\n",
      "2018-09-08 17:56:52,102 - ProgressLogger [INFO] - 200000 items processed. Progress is 40%.\n",
      "2018-09-08 17:58:45,609 - ProgressLogger [INFO] - 250000 items processed. Progress is 50%.\n",
      "2018-09-08 18:01:40,278 - ProgressLogger [INFO] - 300000 items processed. Progress is 60%.\n",
      "2018-09-08 18:04:55,496 - ProgressLogger [INFO] - 350000 items processed. Progress is 70%.\n",
      "2018-09-08 18:07:47,659 - ProgressLogger [INFO] - 400000 items processed. Progress is 80%.\n",
      "2018-09-08 18:10:44,809 - ProgressLogger [INFO] - 450000 items processed. Progress is 90%.\n",
      "2018-09-08 18:14:09,460 - ProgressLogger [INFO] - 500000 items processed. Progress is 100%.\n",
      "2018-09-08 18:14:09,464 - ProgressLogger [INFO] - Finished work. Total items processed: 500000. Took 0:26:17.057881.\n",
      "2018-09-08 18:14:09,465 - CompositeItemExporter [INFO] - block items exported: 500000\n",
      "2018-09-08 18:14:09,468 - CompositeItemExporter [INFO] - transaction items exported: 5270757\n"
     ]
    }
   ],
   "source": [
    "!~/GEXT/ethereumvenv3/bin/python export_blocks_and_transactions.py --start-block 3000001 --end-block 3500000 \\\n",
    "--provider-uri https://mainnet.infura.io --blocks-output data/blocks3000001.csv --transactions-output data/transactions2500001.csv "
   ]
  },
  {
   "cell_type": "code",
   "execution_count": 4,
   "metadata": {},
   "outputs": [
    {
     "name": "stdout",
     "output_type": "stream",
     "text": [
      "2018-09-08 18:19:41,103 - ProgressLogger [INFO] - Started work. Items to process: 500000.\n",
      "2018-09-08 18:22:39,013 - ProgressLogger [INFO] - 50000 items processed. Progress is 10%.\n",
      "2018-09-08 18:25:58,981 - ProgressLogger [INFO] - 100000 items processed. Progress is 20%.\n",
      "2018-09-08 18:30:27,828 - ProgressLogger [INFO] - 150000 items processed. Progress is 30%.\n",
      "2018-09-08 18:34:50,357 - ProgressLogger [INFO] - 200000 items processed. Progress is 40%.\n",
      "2018-09-08 18:39:53,779 - ProgressLogger [INFO] - 250000 items processed. Progress is 50%.\n",
      "2018-09-08 18:46:11,887 - ProgressLogger [INFO] - 300000 items processed. Progress is 60%.\n",
      "2018-09-08 18:53:47,684 - ProgressLogger [INFO] - 350000 items processed. Progress is 70%.\n",
      "2018-09-08 19:02:18,121 - ProgressLogger [INFO] - 400000 items processed. Progress is 80%.\n",
      "2018-09-08 19:11:50,656 - ProgressLogger [INFO] - 450000 items processed. Progress is 90%.\n",
      "2018-09-08 19:21:59,084 - ProgressLogger [INFO] - 500000 items processed. Progress is 100%.\n",
      "2018-09-08 19:21:59,085 - ProgressLogger [INFO] - Finished work. Total items processed: 500000. Took 1:02:17.981831.\n",
      "2018-09-08 19:21:59,085 - CompositeItemExporter [INFO] - block items exported: 500000\n",
      "2018-09-08 19:21:59,099 - CompositeItemExporter [INFO] - transaction items exported: 15700933\n"
     ]
    }
   ],
   "source": [
    "!~/GEXT/ethereumvenv3/bin/python export_blocks_and_transactions.py --start-block 3500001 --end-block 4000000 \\\n",
    "--provider-uri https://mainnet.infura.io --blocks-output data/blocks3500001.csv --transactions-output data/transactions3500001.csv "
   ]
  },
  {
   "cell_type": "code",
   "execution_count": null,
   "metadata": {},
   "outputs": [
    {
     "name": "stdout",
     "output_type": "stream",
     "text": [
      "2018-09-08 19:22:31,847 - ProgressLogger [INFO] - Started work. Items to process: 500000.\n",
      "2018-09-08 19:33:03,978 - ProgressLogger [INFO] - 50000 items processed. Progress is 10%.\n"
     ]
    }
   ],
   "source": [
    "!~/GEXT/ethereumvenv3/bin/python export_blocks_and_transactions.py --start-block 4000001 --end-block 4500000 \\\n",
    "--provider-uri https://mainnet.infura.io --blocks-output data/blocks4000001.csv --transactions-output data/transactions4500001.csv "
   ]
  },
  {
   "cell_type": "code",
   "execution_count": null,
   "metadata": {},
   "outputs": [],
   "source": []
  }
 ],
 "metadata": {
  "kernelspec": {
   "display_name": "Python 3",
   "language": "python",
   "name": "python3"
  },
  "language_info": {
   "codemirror_mode": {
    "name": "ipython",
    "version": 3
   },
   "file_extension": ".py",
   "mimetype": "text/x-python",
   "name": "python",
   "nbconvert_exporter": "python",
   "pygments_lexer": "ipython3",
   "version": "3.6.5"
  }
 },
 "nbformat": 4,
 "nbformat_minor": 2
}
