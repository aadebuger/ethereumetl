{
 "cells": [
  {
   "cell_type": "code",
   "execution_count": 1,
   "metadata": {},
   "outputs": [
    {
     "data": {
      "text/plain": [
       "AttributeDict({'difficulty': 735512610763,\n",
       " 'extraData': HexBytes('0x476574682f76312e302e302f6c696e75782f676f312e342e32'),\n",
       " 'gasLimit': 5000,\n",
       " 'gasUsed': 0,\n",
       " 'hash': HexBytes('0x767c2bfb3bdee3f78676c1285cd757bcd5d8c272cef2eb30d9733800a78c0b6d'),\n",
       " 'logsBloom': HexBytes('0x00000000000000000000000000000000000000000000000000000000000000000000000000000000000000000000000000000000000000000000000000000000000000000000000000000000000000000000000000000000000000000000000000000000000000000000000000000000000000000000000000000000000000000000000000000000000000000000000000000000000000000000000000000000000000000000000000000000000000000000000000000000000000000000000000000000000000000000000000000000000000000000000000000000000000000000000000000000000000000000000000000000000000000000000000000000'),\n",
       " 'miner': '0xad5C1768e5974C231b2148169da064e61910f31a',\n",
       " 'mixHash': HexBytes('0x31d9ec7e3855aeba37fd92aa1639845e70b360a60f77f12eff530429ef8cfcba'),\n",
       " 'nonce': HexBytes('0x549f882c5f356f85'),\n",
       " 'number': 12345,\n",
       " 'parentHash': HexBytes('0x4b3c1d7e65a507b62734feca1ee9f27a5379e318bd52ae62de7ba67dbeac66a3'),\n",
       " 'receiptsRoot': HexBytes('0x56e81f171bcc55a6ff8345e692c0f86e5b48e01b996cadc001622fb5e363b421'),\n",
       " 'sha3Uncles': HexBytes('0x1dcc4de8dec75d7aab85b567b6ccd41ad312451b948a7413f0a142fd40d49347'),\n",
       " 'size': 539,\n",
       " 'stateRoot': HexBytes('0xca495e22ed6b88c61714d129dbc8c94f5bf966ac581c09a57c0a72d0e55e7286'),\n",
       " 'timestamp': 1438367030,\n",
       " 'totalDifficulty': 3862140487204603,\n",
       " 'transactions': [],\n",
       " 'transactionsRoot': HexBytes('0x56e81f171bcc55a6ff8345e692c0f86e5b48e01b996cadc001622fb5e363b421'),\n",
       " 'uncles': []})"
      ]
     },
     "execution_count": 1,
     "metadata": {},
     "output_type": "execute_result"
    }
   ],
   "source": [
    "from web3 import Web3\n",
    "web3 = Web3(Web3.HTTPProvider(\"http://127.0.0.1:8545\"))\n",
    "web3.eth.getBlock(12345)"
   ]
  },
  {
   "cell_type": "code",
   "execution_count": 2,
   "metadata": {},
   "outputs": [
    {
     "data": {
      "text/plain": [
       "AttributeDict({'difficulty': 17179869184,\n",
       " 'extraData': HexBytes('0x11bbe8db4e347b4e8c937c1c8370e4b5ed33adb3db69cbdb7a38e1e50b1b82fa'),\n",
       " 'gasLimit': 5000,\n",
       " 'gasUsed': 0,\n",
       " 'hash': HexBytes('0xd4e56740f876aef8c010b86a40d5f56745a118d0906a34e69aec8c0db1cb8fa3'),\n",
       " 'logsBloom': HexBytes('0x00000000000000000000000000000000000000000000000000000000000000000000000000000000000000000000000000000000000000000000000000000000000000000000000000000000000000000000000000000000000000000000000000000000000000000000000000000000000000000000000000000000000000000000000000000000000000000000000000000000000000000000000000000000000000000000000000000000000000000000000000000000000000000000000000000000000000000000000000000000000000000000000000000000000000000000000000000000000000000000000000000000000000000000000000000000'),\n",
       " 'miner': '0x0000000000000000000000000000000000000000',\n",
       " 'mixHash': HexBytes('0x0000000000000000000000000000000000000000000000000000000000000000'),\n",
       " 'nonce': HexBytes('0x0000000000000042'),\n",
       " 'number': 0,\n",
       " 'parentHash': HexBytes('0x0000000000000000000000000000000000000000000000000000000000000000'),\n",
       " 'receiptsRoot': HexBytes('0x56e81f171bcc55a6ff8345e692c0f86e5b48e01b996cadc001622fb5e363b421'),\n",
       " 'sha3Uncles': HexBytes('0x1dcc4de8dec75d7aab85b567b6ccd41ad312451b948a7413f0a142fd40d49347'),\n",
       " 'size': 540,\n",
       " 'stateRoot': HexBytes('0xd7f8974fb5ac78d9ac099b9ad5018bedc2ce0a72dad1827a1709da30580f0544'),\n",
       " 'timestamp': 0,\n",
       " 'totalDifficulty': 17179869184,\n",
       " 'transactions': [],\n",
       " 'transactionsRoot': HexBytes('0x56e81f171bcc55a6ff8345e692c0f86e5b48e01b996cadc001622fb5e363b421'),\n",
       " 'uncles': []})"
      ]
     },
     "execution_count": 2,
     "metadata": {},
     "output_type": "execute_result"
    }
   ],
   "source": [
    "web3.eth.getBlock('latest')"
   ]
  },
  {
   "cell_type": "code",
   "execution_count": 3,
   "metadata": {},
   "outputs": [
    {
     "data": {
      "text/plain": [
       "AttributeDict({'blockHash': HexBytes('0x4e3a3754410177e6937ef1f84bba68ea139e8d1a2258c5f85db9f1cd715a1bdd'),\n",
       " 'blockNumber': 46147,\n",
       " 'from': '0xA1E4380A3B1f749673E270229993eE55F35663b4',\n",
       " 'gas': 21000,\n",
       " 'gasPrice': 50000000000000,\n",
       " 'hash': HexBytes('0x5c504ed432cb51138bcf09aa5e8a410dd4a1e204ef84bfed1be16dfba1b22060'),\n",
       " 'input': '0x',\n",
       " 'nonce': 0,\n",
       " 'to': '0x5DF9B87991262F6BA471F09758CDE1c0FC1De734',\n",
       " 'transactionIndex': 0,\n",
       " 'value': 31337,\n",
       " 'v': 28,\n",
       " 'r': HexBytes('0x88ff6cf0fefd94db46111149ae4bfc179e9b94721fffd821d38d16464b3f71d0'),\n",
       " 's': HexBytes('0x45e0aff800961cfce805daef7016b9b675c137a6a41a548f7b60a3484c06a33a')})"
      ]
     },
     "execution_count": 3,
     "metadata": {},
     "output_type": "execute_result"
    }
   ],
   "source": [
    "web3.eth.getTransaction('0x5c504ed432cb51138bcf09aa5e8a410dd4a1e204ef84bfed1be16dfba1b22060')"
   ]
  },
  {
   "cell_type": "code",
   "execution_count": 4,
   "metadata": {},
   "outputs": [],
   "source": [
    "web3.eth.getBlock(6500000)"
   ]
  },
  {
   "cell_type": "code",
   "execution_count": 5,
   "metadata": {},
   "outputs": [
    {
     "data": {
      "text/plain": [
       "AttributeDict({'difficulty': 17179869184,\n",
       " 'extraData': HexBytes('0x11bbe8db4e347b4e8c937c1c8370e4b5ed33adb3db69cbdb7a38e1e50b1b82fa'),\n",
       " 'gasLimit': 5000,\n",
       " 'gasUsed': 0,\n",
       " 'hash': HexBytes('0xd4e56740f876aef8c010b86a40d5f56745a118d0906a34e69aec8c0db1cb8fa3'),\n",
       " 'logsBloom': HexBytes('0x00000000000000000000000000000000000000000000000000000000000000000000000000000000000000000000000000000000000000000000000000000000000000000000000000000000000000000000000000000000000000000000000000000000000000000000000000000000000000000000000000000000000000000000000000000000000000000000000000000000000000000000000000000000000000000000000000000000000000000000000000000000000000000000000000000000000000000000000000000000000000000000000000000000000000000000000000000000000000000000000000000000000000000000000000000000'),\n",
       " 'miner': '0x0000000000000000000000000000000000000000',\n",
       " 'mixHash': HexBytes('0x0000000000000000000000000000000000000000000000000000000000000000'),\n",
       " 'nonce': HexBytes('0x0000000000000042'),\n",
       " 'number': 0,\n",
       " 'parentHash': HexBytes('0x0000000000000000000000000000000000000000000000000000000000000000'),\n",
       " 'receiptsRoot': HexBytes('0x56e81f171bcc55a6ff8345e692c0f86e5b48e01b996cadc001622fb5e363b421'),\n",
       " 'sha3Uncles': HexBytes('0x1dcc4de8dec75d7aab85b567b6ccd41ad312451b948a7413f0a142fd40d49347'),\n",
       " 'size': 540,\n",
       " 'stateRoot': HexBytes('0xd7f8974fb5ac78d9ac099b9ad5018bedc2ce0a72dad1827a1709da30580f0544'),\n",
       " 'timestamp': 0,\n",
       " 'totalDifficulty': 17179869184,\n",
       " 'transactions': [],\n",
       " 'transactionsRoot': HexBytes('0x56e81f171bcc55a6ff8345e692c0f86e5b48e01b996cadc001622fb5e363b421'),\n",
       " 'uncles': []})"
      ]
     },
     "execution_count": 5,
     "metadata": {},
     "output_type": "execute_result"
    }
   ],
   "source": [
    "web3.eth.getBlock('latest')"
   ]
  },
  {
   "cell_type": "code",
   "execution_count": 6,
   "metadata": {},
   "outputs": [
    {
     "data": {
      "text/plain": [
       "0"
      ]
     },
     "execution_count": 6,
     "metadata": {},
     "output_type": "execute_result"
    }
   ],
   "source": [
    "web3.eth.blockNumber"
   ]
  },
  {
   "cell_type": "code",
   "execution_count": null,
   "metadata": {},
   "outputs": [],
   "source": []
  },
  {
   "cell_type": "code",
   "execution_count": null,
   "metadata": {},
   "outputs": [],
   "source": []
  },
  {
   "cell_type": "code",
   "execution_count": 7,
   "metadata": {},
   "outputs": [
    {
     "data": {
      "text/plain": [
       "<web3.eth.Eth at 0x7f0f06d19b00>"
      ]
     },
     "execution_count": 7,
     "metadata": {},
     "output_type": "execute_result"
    }
   ],
   "source": [
    "web3.eth"
   ]
  },
  {
   "cell_type": "code",
   "execution_count": null,
   "metadata": {},
   "outputs": [],
   "source": []
  },
  {
   "cell_type": "code",
   "execution_count": 8,
   "metadata": {},
   "outputs": [
    {
     "data": {
      "text/plain": [
       "AttributeDict({'difficulty': 17179869184,\n",
       " 'extraData': HexBytes('0x11bbe8db4e347b4e8c937c1c8370e4b5ed33adb3db69cbdb7a38e1e50b1b82fa'),\n",
       " 'gasLimit': 5000,\n",
       " 'gasUsed': 0,\n",
       " 'hash': HexBytes('0xd4e56740f876aef8c010b86a40d5f56745a118d0906a34e69aec8c0db1cb8fa3'),\n",
       " 'logsBloom': HexBytes('0x00000000000000000000000000000000000000000000000000000000000000000000000000000000000000000000000000000000000000000000000000000000000000000000000000000000000000000000000000000000000000000000000000000000000000000000000000000000000000000000000000000000000000000000000000000000000000000000000000000000000000000000000000000000000000000000000000000000000000000000000000000000000000000000000000000000000000000000000000000000000000000000000000000000000000000000000000000000000000000000000000000000000000000000000000000000'),\n",
       " 'miner': '0x0000000000000000000000000000000000000000',\n",
       " 'mixHash': HexBytes('0x0000000000000000000000000000000000000000000000000000000000000000'),\n",
       " 'nonce': HexBytes('0x0000000000000042'),\n",
       " 'number': 0,\n",
       " 'parentHash': HexBytes('0x0000000000000000000000000000000000000000000000000000000000000000'),\n",
       " 'receiptsRoot': HexBytes('0x56e81f171bcc55a6ff8345e692c0f86e5b48e01b996cadc001622fb5e363b421'),\n",
       " 'sha3Uncles': HexBytes('0x1dcc4de8dec75d7aab85b567b6ccd41ad312451b948a7413f0a142fd40d49347'),\n",
       " 'size': 540,\n",
       " 'stateRoot': HexBytes('0xd7f8974fb5ac78d9ac099b9ad5018bedc2ce0a72dad1827a1709da30580f0544'),\n",
       " 'timestamp': 0,\n",
       " 'totalDifficulty': 17179869184,\n",
       " 'transactions': [],\n",
       " 'transactionsRoot': HexBytes('0x56e81f171bcc55a6ff8345e692c0f86e5b48e01b996cadc001622fb5e363b421'),\n",
       " 'uncles': []})"
      ]
     },
     "execution_count": 8,
     "metadata": {},
     "output_type": "execute_result"
    }
   ],
   "source": [
    "web3.eth.getBlock('latest')"
   ]
  },
  {
   "cell_type": "code",
   "execution_count": 9,
   "metadata": {},
   "outputs": [
    {
     "data": {
      "text/plain": [
       "AttributeDict({'difficulty': 3239903809457772,\n",
       " 'extraData': HexBytes('0x6e616e6f706f6f6c2e6f7267'),\n",
       " 'gasLimit': 8000029,\n",
       " 'gasUsed': 7984627,\n",
       " 'hash': HexBytes('0x72bc566a9284c770239463cf30fe23dc2127c01086ebea702759b1a923b6a0d8'),\n",
       " 'logsBloom': HexBytes('0x00000001000000010500010010004048000004000400402c820000000081200410420208108810c00000484242400000000014600801002100080888000000042c0100020420050402026008000002009000020201100004404080082000280006008630484000804900002000090008500458020080014520008a1408000080008005500000080008000000800801200600040004389c00040002a420000001340000201220041010800009000c1000005000000004100004081000108600810010011200245048801404000200c408008084800200001100800008402194042080204010102402410120182000800102204000000000000400008013800203'),\n",
       " 'miner': '0x52bc44d5378309EE2abF1539BF71dE1b7d7bE3b5',\n",
       " 'mixHash': HexBytes('0xd0062005dbe3e4ee995c2090d990c168bec98b05b29922df23e6668717f4e0f2'),\n",
       " 'nonce': HexBytes('0x557728180551f24a'),\n",
       " 'number': 6400087,\n",
       " 'parentHash': HexBytes('0xf3cfabe7b66a16bf228ca64927684d478713d9572ab7f401d59162d073d148b7'),\n",
       " 'receiptsRoot': HexBytes('0xad53e7fdbec3b259d9d8b34a32ba1dec505fc0114a7f69c6f7010d79588bbc41'),\n",
       " 'sha3Uncles': HexBytes('0x1dcc4de8dec75d7aab85b567b6ccd41ad312451b948a7413f0a142fd40d49347'),\n",
       " 'size': 42818,\n",
       " 'stateRoot': HexBytes('0x08b9aff9ecaf896d19bab813042fdd16db5352775d3c0961d042d18b036ddb5d'),\n",
       " 'timestamp': 1537923998,\n",
       " 'totalDifficulty': 6847874207266842094888,\n",
       " 'transactions': [HexBytes('0x6e13ed08393e1ad0d5e041ca89e88835a637e6f642d2d899f66ba9d0827ed6f8'),\n",
       "  HexBytes('0xaf26655e7643848abc1864b1335e2be2e3ef5b279c20db0c8b7b489ff74efed5'),\n",
       "  HexBytes('0xdec3fbf7541df83e0b96b95b5ad212b739f01f2ebfedfa2982260b971027a598'),\n",
       "  HexBytes('0x173409dd6c4e3f18f6c434ae2e92bd8d8efdb6f222736a97b1192498124833a5'),\n",
       "  HexBytes('0x029083b0930929ec0d04b4b4bde3743e4ab5216b3257eb2a97853cd826a5dd37'),\n",
       "  HexBytes('0x7592fdf3a90862a6a43e2fa437c069f4ad86e47ecf711fddc556eb8589e9675c'),\n",
       "  HexBytes('0x2bd2fe9c1ef9490b324aecc31f69d091d373c9083022169cb86aa0d476fa5d19'),\n",
       "  HexBytes('0x680d51cb65c25f787ee93223e41c88ab3e3e284c2a05293e1edd4c27c72e6c5b'),\n",
       "  HexBytes('0x41e1a874a35743ddff70486b36587fbf6d87ba6333f9d4c9db15451d2af87853'),\n",
       "  HexBytes('0x3847b6def127e294fb8d823512a45b34a5bfd122a7fe731a1468127dc385efd7'),\n",
       "  HexBytes('0x0ab5ebb352ca31e4348cc49c11abd4063764e390735c748924ea9e44c1243e5c'),\n",
       "  HexBytes('0x2ddeeabbc2ba4ff4effa093bfd05e9802d5da97ecc6a0dc048df2ced9a8ab537'),\n",
       "  HexBytes('0x8bc3952d8e5619a2bb8912880263bbbd517cf65a4e2b9455d8b2e1c74939d4cf'),\n",
       "  HexBytes('0x4a14a48029dfdecad496db50871513eef145f1eed78a8893dcfd4aa90855e45d'),\n",
       "  HexBytes('0xcb275c75890e5d33e8455e5beb88b198a9139ce387d7f44d875b4437b8dadf94'),\n",
       "  HexBytes('0x854c456c675bb5a4644ebec81e3e05cae73e752a3d0d46fe00dc59b72b0de17e'),\n",
       "  HexBytes('0xf44369072cb780df2c969dbf87bc87967b931e44b9c8ff5cebe9192776a5a123'),\n",
       "  HexBytes('0xa2a28b64921983ac7faa33d889d5eb28118546eed12f4eedd116a09bb5280f9c'),\n",
       "  HexBytes('0xce501c1d7c2de0cb97fd832282bd9c891e4340a92a077f15124cae2b0411c322'),\n",
       "  HexBytes('0xc5d535952e1b435c605ea5cbdccbd138bf4bc9a2edb7f4174d64891f31fcf1bb'),\n",
       "  HexBytes('0xf71ab6bd15af376cc4544ad28daa90c630604cee0ca79069da5d66d08ff4df6a'),\n",
       "  HexBytes('0x7832f33a6cc85d40b4a531c48ff77ac032f3547dc5198d30b8d7517dcb99a04d')],\n",
       " 'transactionsRoot': HexBytes('0xdc3eb62038eea2be332bd5ce3db5402a26fa7f3016c5e8579985ba62ded39c1e'),\n",
       " 'uncles': []})"
      ]
     },
     "execution_count": 9,
     "metadata": {},
     "output_type": "execute_result"
    }
   ],
   "source": [
    "web3.eth.getBlock(6400087)"
   ]
  },
  {
   "cell_type": "code",
   "execution_count": 15,
   "metadata": {},
   "outputs": [
    {
     "data": {
      "text/plain": [
       "AttributeDict({'difficulty': 17179869184,\n",
       " 'extraData': HexBytes('0x11bbe8db4e347b4e8c937c1c8370e4b5ed33adb3db69cbdb7a38e1e50b1b82fa'),\n",
       " 'gasLimit': 5000,\n",
       " 'gasUsed': 0,\n",
       " 'hash': HexBytes('0xd4e56740f876aef8c010b86a40d5f56745a118d0906a34e69aec8c0db1cb8fa3'),\n",
       " 'logsBloom': HexBytes('0x00000000000000000000000000000000000000000000000000000000000000000000000000000000000000000000000000000000000000000000000000000000000000000000000000000000000000000000000000000000000000000000000000000000000000000000000000000000000000000000000000000000000000000000000000000000000000000000000000000000000000000000000000000000000000000000000000000000000000000000000000000000000000000000000000000000000000000000000000000000000000000000000000000000000000000000000000000000000000000000000000000000000000000000000000000000'),\n",
       " 'miner': '0x0000000000000000000000000000000000000000',\n",
       " 'mixHash': HexBytes('0x0000000000000000000000000000000000000000000000000000000000000000'),\n",
       " 'nonce': HexBytes('0x0000000000000042'),\n",
       " 'number': 0,\n",
       " 'parentHash': HexBytes('0x0000000000000000000000000000000000000000000000000000000000000000'),\n",
       " 'receiptsRoot': HexBytes('0x56e81f171bcc55a6ff8345e692c0f86e5b48e01b996cadc001622fb5e363b421'),\n",
       " 'sha3Uncles': HexBytes('0x1dcc4de8dec75d7aab85b567b6ccd41ad312451b948a7413f0a142fd40d49347'),\n",
       " 'size': 540,\n",
       " 'stateRoot': HexBytes('0xd7f8974fb5ac78d9ac099b9ad5018bedc2ce0a72dad1827a1709da30580f0544'),\n",
       " 'timestamp': 0,\n",
       " 'totalDifficulty': 17179869184,\n",
       " 'transactions': [],\n",
       " 'transactionsRoot': HexBytes('0x56e81f171bcc55a6ff8345e692c0f86e5b48e01b996cadc001622fb5e363b421'),\n",
       " 'uncles': []})"
      ]
     },
     "execution_count": 15,
     "metadata": {},
     "output_type": "execute_result"
    }
   ],
   "source": [
    "web3.eth.getBlock('latest')"
   ]
  },
  {
   "cell_type": "code",
   "execution_count": 10,
   "metadata": {},
   "outputs": [
    {
     "data": {
      "text/plain": [
       "AttributeDict({'currentBlock': 6401405,\n",
       " 'highestBlock': 6401682,\n",
       " 'knownStates': 3527984,\n",
       " 'pulledStates': 3521155,\n",
       " 'startingBlock': 6370583})"
      ]
     },
     "execution_count": 10,
     "metadata": {},
     "output_type": "execute_result"
    }
   ],
   "source": [
    "web3.eth.syncing"
   ]
  },
  {
   "cell_type": "code",
   "execution_count": 11,
   "metadata": {},
   "outputs": [
    {
     "data": {
      "text/plain": [
       "AttributeDict({'currentBlock': 6401405,\n",
       " 'highestBlock': 6401682,\n",
       " 'knownStates': 3581336,\n",
       " 'pulledStates': 3578824,\n",
       " 'startingBlock': 6370583})"
      ]
     },
     "execution_count": 11,
     "metadata": {},
     "output_type": "execute_result"
    }
   ],
   "source": [
    "web3.eth.syncing"
   ]
  },
  {
   "cell_type": "code",
   "execution_count": 12,
   "metadata": {},
   "outputs": [],
   "source": [
    "result=web3.eth.syncing"
   ]
  },
  {
   "cell_type": "code",
   "execution_count": 13,
   "metadata": {},
   "outputs": [
    {
     "name": "stdout",
     "output_type": "stream",
     "text": [
      "6401405\n"
     ]
    }
   ],
   "source": [
    "print(result['currentBlock'])"
   ]
  },
  {
   "cell_type": "code",
   "execution_count": null,
   "metadata": {},
   "outputs": [],
   "source": []
  }
 ],
 "metadata": {
  "kernelspec": {
   "display_name": "Python 3",
   "language": "python",
   "name": "python3"
  },
  "language_info": {
   "codemirror_mode": {
    "name": "ipython",
    "version": 3
   },
   "file_extension": ".py",
   "mimetype": "text/x-python",
   "name": "python",
   "nbconvert_exporter": "python",
   "pygments_lexer": "ipython3",
   "version": "3.6.5"
  }
 },
 "nbformat": 4,
 "nbformat_minor": 2
}
