{
 "cells": [
  {
   "cell_type": "code",
   "execution_count": 1,
   "metadata": {
    "scrolled": false
   },
   "outputs": [
    {
     "name": "stdout",
     "output_type": "stream",
     "text": [
      "2018-09-27 11:40:00,444 - ProgressLogger [INFO] - Started work. Items to process: 100000.\n",
      "2018-09-27 11:51:05,694 - ProgressLogger [INFO] - 10000 items processed. Progress is 10%.\n",
      "2018-09-27 12:00:11,748 - ProgressLogger [INFO] - 20000 items processed. Progress is 20%.\n",
      "2018-09-27 12:09:42,331 - ProgressLogger [INFO] - 30000 items processed. Progress is 30%.\n",
      "2018-09-27 12:19:06,712 - ProgressLogger [INFO] - 40000 items processed. Progress is 40%.\n",
      "2018-09-27 12:31:04,304 - ProgressLogger [INFO] - 50000 items processed. Progress is 50%.\n",
      "2018-09-27 12:39:12,832 - ProgressLogger [INFO] - 60000 items processed. Progress is 60%.\n",
      "2018-09-27 12:47:44,778 - ProgressLogger [INFO] - 70000 items processed. Progress is 70%.\n",
      "2018-09-27 12:56:36,689 - ProgressLogger [INFO] - 80000 items processed. Progress is 80%.\n",
      "2018-09-27 13:04:40,428 - ProgressLogger [INFO] - 90000 items processed. Progress is 90%.\n",
      "2018-09-27 13:14:11,722 - ProgressLogger [INFO] - 100000 items processed. Progress is 100%.\n",
      "2018-09-27 13:14:11,725 - ProgressLogger [INFO] - Finished work. Total items processed: 100000. Took 1:34:11.279521.\n",
      "2018-09-27 13:14:11,726 - CompositeItemExporter [INFO] - block items exported: 100000\n",
      "2018-09-27 13:14:11,744 - CompositeItemExporter [INFO] - transaction items exported: 8505025\n"
     ]
    }
   ],
   "source": [
    "\n",
    "! ~/ethereumvenv36/bin/python export_blocks_and_transactions.py --start-block 6300\\\n",
    "001 --end-block 6400000 --provider-uri file:/home/aadebuger/GEXTMAC/ethereum1t/data/geth.ipc --blocks-output /home/aadebuger/GEXTMAC/home/aadebuger/github2018/ethereum-etl/data/blocks6300001.csv --transactions-output /home/aadebuger/GEXTMAC/home/aadebuger/github2018/ethereum-etl/data/transactions6300001.csv\n"
   ]
  },
  {
   "cell_type": "code",
   "execution_count": 3,
   "metadata": {
    "scrolled": true
   },
   "outputs": [
    {
     "name": "stdout",
     "output_type": "stream",
     "text": [
      "~/GEXT/ethereumvenv3/bin/python export_blocks_and_transactions.py --start-block 0 --end-block 500000 --provider-uri file:/Users/aadebuger/GEXT/ethereum20180910/geth.ipc --blocks-output /Users/aadebuger/GEXT/apps/eth/blocks0.csv --transactions-output  /Users/aadebuger/GEXT/apps/eth/transactions0.csv\n",
      "2018-09-30 08:14:08,330 - ProgressLogger [INFO] - Started work. Items to process: 500001.\n",
      "2018-09-30 08:14:32,071 - ProgressLogger [INFO] - 50100 items processed. Progress is 10%.\n",
      "2018-09-30 08:15:03,007 - ProgressLogger [INFO] - 100100 items processed. Progress is 20%.\n",
      "2018-09-30 08:15:30,179 - ProgressLogger [INFO] - 150100 items processed. Progress is 30%.\n",
      "2018-09-30 08:16:06,965 - ProgressLogger [INFO] - 200050 items processed. Progress is 40%.\n",
      "2018-09-30 08:16:38,375 - ProgressLogger [INFO] - 250050 items processed. Progress is 50%.\n",
      "2018-09-30 08:17:11,100 - ProgressLogger [INFO] - 300050 items processed. Progress is 60%.\n",
      "2018-09-30 08:17:38,341 - ProgressLogger [INFO] - 350050 items processed. Progress is 70%.\n",
      "2018-09-30 08:18:12,609 - ProgressLogger [INFO] - 400050 items processed. Progress is 80%.\n",
      "2018-09-30 08:18:42,412 - ProgressLogger [INFO] - 450050 items processed. Progress is 90%.\n",
      "2018-09-30 08:19:12,213 - ProgressLogger [INFO] - 500001 items processed. Progress is 100%.\n",
      "2018-09-30 08:19:12,214 - ProgressLogger [INFO] - Finished work. Total items processed: 500001. Took 0:05:03.883584.\n",
      "2018-09-30 08:19:12,220 - CompositeItemExporter [INFO] - block items exported: 500001\n",
      "2018-09-30 08:19:12,228 - CompositeItemExporter [INFO] - transaction items exported: 504708\n"
     ]
    }
   ],
   "source": [
    "startb=0\n",
    "endb=500000\n",
    "ipcpath='file:/Users/aadebuger/GEXT/ethereum20180910/geth.ipc'\n",
    "datapath='/Users/aadebuger/GEXT/apps/eth'\n",
    "command='~/GEXT/ethereumvenv3/bin/python export_blocks_and_transactions.py --start-block '+str(startb)+' --end-block '+str(endb)+' --provider-uri '+ipcpath+' --blocks-output '+datapath+'/blocks'+str(startb)+'.csv --transactions-output  '+datapath+'/transactions'+str(startb)+'.csv'\n",
    "print(command)\n",
    "! $command"
   ]
  },
  {
   "cell_type": "code",
   "execution_count": 3,
   "metadata": {},
   "outputs": [
    {
     "name": "stdout",
     "output_type": "stream",
     "text": [
      "/bin/sh: 1: aa: not found\r\n"
     ]
    }
   ],
   "source": [
    "!aa"
   ]
  },
  {
   "cell_type": "code",
   "execution_count": 4,
   "metadata": {},
   "outputs": [
    {
     "name": "stdout",
     "output_type": "stream",
     "text": [
      "2018-09-27 14:33:33,741 - ProgressLogger [INFO] - Started work. Items to process: 100000.\n",
      "2018-09-27 14:42:44,983 - ProgressLogger [INFO] - 10000 items processed. Progress is 10%.\n",
      "2018-09-27 14:52:32,890 - ProgressLogger [INFO] - 20000 items processed. Progress is 20%.\n",
      "2018-09-27 15:02:14,693 - ProgressLogger [INFO] - 30000 items processed. Progress is 30%.\n",
      "2018-09-27 15:10:44,628 - ProgressLogger [INFO] - 40000 items processed. Progress is 40%.\n",
      "2018-09-27 15:20:11,892 - ProgressLogger [INFO] - 50000 items processed. Progress is 50%.\n",
      "2018-09-27 15:28:54,710 - ProgressLogger [INFO] - 60000 items processed. Progress is 60%.\n",
      "2018-09-27 15:36:31,899 - ProgressLogger [INFO] - 70000 items processed. Progress is 70%.\n",
      "2018-09-27 15:45:34,010 - ProgressLogger [INFO] - 80000 items processed. Progress is 80%.\n",
      "2018-09-27 15:53:21,623 - ProgressLogger [INFO] - 90000 items processed. Progress is 90%.\n",
      "2018-09-27 16:02:39,436 - ProgressLogger [INFO] - 100000 items processed. Progress is 100%.\n",
      "2018-09-27 16:02:39,439 - ProgressLogger [INFO] - Finished work. Total items processed: 100000. Took 1:29:05.696011.\n",
      "2018-09-27 16:02:39,439 - CompositeItemExporter [INFO] - block items exported: 100000\n",
      "2018-09-27 16:02:39,474 - CompositeItemExporter [INFO] - transaction items exported: 8505025\n"
     ]
    }
   ],
   "source": [
    "!python export_blocks_and_transactions.py --start-block 6300\\\n",
    "001 --end-block 6400000 --provider-uri file:/home/aadebuger/GEXTMAC/ethereum1t/data/geth.ipc --blocks-output /home/aadebuger/GEXTMAC/home/aadebuger/github2018/ethereum-etl/data/blocks6300001.csv --transactions-output /home/aadebuger/GEXTMAC/home/aadebuger/github2018/ethereum-etl/data/transactions6300001.csv\n"
   ]
  },
  {
   "cell_type": "code",
   "execution_count": 4,
   "metadata": {},
   "outputs": [
    {
     "name": "stdout",
     "output_type": "stream",
     "text": [
      "~/GEXT/ethereumvenv3/bin/python export_blocks_and_transactions.py --start-block 500001 --end-block 1000000 --provider-uri file:/Users/aadebuger/GEXT/ethereum20180910/geth.ipc --blocks-output /Users/aadebuger/GEXT/apps/eth/blocks500001.csv --transactions-output  /Users/aadebuger/GEXT/apps/eth/transactions500001.csv\n",
      "2018-09-30 08:26:02,035 - ProgressLogger [INFO] - Started work. Items to process: 500000.\n",
      "2018-09-30 08:26:39,062 - ProgressLogger [INFO] - 50000 items processed. Progress is 10%.\n",
      "2018-09-30 08:27:15,034 - ProgressLogger [INFO] - 100000 items processed. Progress is 20%.\n",
      "2018-09-30 08:27:50,487 - ProgressLogger [INFO] - 150000 items processed. Progress is 30%.\n",
      "2018-09-30 08:28:24,051 - ProgressLogger [INFO] - 200000 items processed. Progress is 40%.\n",
      "2018-09-30 08:28:57,230 - ProgressLogger [INFO] - 250000 items processed. Progress is 50%.\n",
      "2018-09-30 08:29:29,047 - ProgressLogger [INFO] - 300000 items processed. Progress is 60%.\n",
      "2018-09-30 08:30:14,493 - ProgressLogger [INFO] - 350000 items processed. Progress is 70%.\n",
      "2018-09-30 08:31:08,031 - ProgressLogger [INFO] - 400000 items processed. Progress is 80%.\n",
      "2018-09-30 08:32:09,850 - ProgressLogger [INFO] - 450000 items processed. Progress is 90%.\n",
      "2018-09-30 08:33:15,730 - ProgressLogger [INFO] - 500000 items processed. Progress is 100%.\n",
      "2018-09-30 08:33:15,731 - ProgressLogger [INFO] - Finished work. Total items processed: 500000. Took 0:07:13.695908.\n",
      "2018-09-30 08:33:15,743 - CompositeItemExporter [INFO] - block items exported: 500000\n",
      "2018-09-30 08:33:15,753 - CompositeItemExporter [INFO] - transaction items exported: 1169556\n"
     ]
    }
   ],
   "source": [
    "startb=500001\n",
    "endb=1000000\n",
    "ipcpath='file:/Users/aadebuger/GEXT/ethereum20180910/geth.ipc'\n",
    "datapath='/Users/aadebuger/GEXT/apps/eth'\n",
    "command='~/GEXT/ethereumvenv3/bin/python export_blocks_and_transactions.py --start-block '+str(startb)+' --end-block '+str(endb)+' --provider-uri '+ipcpath+' --blocks-output '+datapath+'/blocks'+str(startb)+'.csv --transactions-output  '+datapath+'/transactions'+str(startb)+'.csv'\n",
    "print(command)\n",
    "! $command"
   ]
  },
  {
   "cell_type": "code",
   "execution_count": 6,
   "metadata": {},
   "outputs": [
    {
     "name": "stdout",
     "output_type": "stream",
     "text": [
      "~/GEXT/ethereumvenv3/bin/python export_blocks_and_transactions.py --start-block 1000001 --end-block 1500000 --provider-uri file:/Users/aadebuger/GEXT/ethereum20180910/geth.ipc --blocks-output /Users/aadebuger/GEXT/apps/eth/blocks1000001.csv --transactions-output  /Users/aadebuger/GEXT/apps/eth/transactions1000001.csv\n",
      "2018-09-30 08:44:25,554 - ProgressLogger [INFO] - Started work. Items to process: 500000.\n",
      "2018-09-30 08:45:14,987 - ProgressLogger [INFO] - 50000 items processed. Progress is 10%.\n",
      "2018-09-30 08:46:01,853 - ProgressLogger [INFO] - 100000 items processed. Progress is 20%.\n",
      "2018-09-30 08:46:53,286 - ProgressLogger [INFO] - 150000 items processed. Progress is 30%.\n",
      "2018-09-30 08:47:46,573 - ProgressLogger [INFO] - 200000 items processed. Progress is 40%.\n",
      "2018-09-30 08:48:57,240 - ProgressLogger [INFO] - 250000 items processed. Progress is 50%.\n",
      "2018-09-30 08:50:18,383 - ProgressLogger [INFO] - 300000 items processed. Progress is 60%.\n",
      "2018-09-30 08:51:37,592 - ProgressLogger [INFO] - 350000 items processed. Progress is 70%.\n",
      "2018-09-30 08:53:00,994 - ProgressLogger [INFO] - 400000 items processed. Progress is 80%.\n",
      "2018-09-30 08:54:26,658 - ProgressLogger [INFO] - 450000 items processed. Progress is 90%.\n",
      "2018-09-30 08:55:52,905 - ProgressLogger [INFO] - 500000 items processed. Progress is 100%.\n",
      "2018-09-30 08:55:52,913 - ProgressLogger [INFO] - Finished work. Total items processed: 500000. Took 0:11:27.358937.\n",
      "2018-09-30 08:55:52,914 - CompositeItemExporter [INFO] - block items exported: 500000\n",
      "2018-09-30 08:55:52,931 - CompositeItemExporter [INFO] - transaction items exported: 2666887\n"
     ]
    }
   ],
   "source": [
    "startb=1000001\n",
    "endb=1500000\n",
    "ipcpath='file:/Users/aadebuger/GEXT/ethereum20180910/geth.ipc'\n",
    "datapath='/Users/aadebuger/GEXT/apps/eth'\n",
    "command='~/GEXT/ethereumvenv3/bin/python export_blocks_and_transactions.py --start-block '+str(startb)+' --end-block '+str(endb)+' --provider-uri '+ipcpath+' --blocks-output '+datapath+'/blocks'+str(startb)+'.csv --transactions-output  '+datapath+'/transactions'+str(startb)+'.csv'\n",
    "print(command)\n",
    "! $command"
   ]
  },
  {
   "cell_type": "code",
   "execution_count": 7,
   "metadata": {},
   "outputs": [
    {
     "name": "stdout",
     "output_type": "stream",
     "text": [
      "~/GEXT/ethereumvenv3/bin/python export_blocks_and_transactions.py --start-block 1500001 --end-block 2000000 --provider-uri file:/Users/aadebuger/GEXT/ethereum20180910/geth.ipc --blocks-output /Users/aadebuger/GEXT/apps/eth/blocks1500001.csv --transactions-output  /Users/aadebuger/GEXT/apps/eth/transactions1500001.csv\n",
      "2018-09-30 09:30:41,886 - ProgressLogger [INFO] - Started work. Items to process: 500000.\n",
      "2018-09-30 09:32:25,178 - ProgressLogger [INFO] - 50000 items processed. Progress is 10%.\n",
      "2018-09-30 09:34:09,056 - ProgressLogger [INFO] - 100000 items processed. Progress is 20%.\n",
      "2018-09-30 09:35:45,968 - ProgressLogger [INFO] - 150000 items processed. Progress is 30%.\n",
      "2018-09-30 09:37:26,413 - ProgressLogger [INFO] - 200000 items processed. Progress is 40%.\n",
      "2018-09-30 09:39:14,598 - ProgressLogger [INFO] - 250000 items processed. Progress is 50%.\n",
      "2018-09-30 09:40:58,411 - ProgressLogger [INFO] - 300000 items processed. Progress is 60%.\n",
      "2018-09-30 09:42:04,827 - ProgressLogger [INFO] - 350000 items processed. Progress is 70%.\n",
      "2018-09-30 09:43:32,901 - ProgressLogger [INFO] - 400000 items processed. Progress is 80%.\n",
      "2018-09-30 09:45:21,847 - ProgressLogger [INFO] - 450000 items processed. Progress is 90%.\n",
      "2018-09-30 09:47:12,320 - ProgressLogger [INFO] - 500000 items processed. Progress is 100%.\n",
      "2018-09-30 09:47:12,321 - ProgressLogger [INFO] - Finished work. Total items processed: 500000. Took 0:16:30.434274.\n",
      "2018-09-30 09:47:12,321 - CompositeItemExporter [INFO] - block items exported: 500000\n",
      "2018-09-30 09:47:12,327 - CompositeItemExporter [INFO] - transaction items exported: 3716240\n"
     ]
    }
   ],
   "source": [
    "startb=1500001\n",
    "endb=2000000\n",
    "ipcpath='file:/Users/aadebuger/GEXT/ethereum20180910/geth.ipc'\n",
    "datapath='/Users/aadebuger/GEXT/apps/eth'\n",
    "command='~/GEXT/ethereumvenv3/bin/python export_blocks_and_transactions.py --start-block '+str(startb)+' --end-block '+str(endb)+' --provider-uri '+ipcpath+' --blocks-output '+datapath+'/blocks'+str(startb)+'.csv --transactions-output  '+datapath+'/transactions'+str(startb)+'.csv'\n",
    "print(command)\n",
    "! $command"
   ]
  },
  {
   "cell_type": "code",
   "execution_count": 8,
   "metadata": {},
   "outputs": [
    {
     "name": "stdout",
     "output_type": "stream",
     "text": [
      "~/GEXT/ethereumvenv3/bin/python export_blocks_and_transactions.py --start-block 2000001 --end-block 2500000 --provider-uri file:/Users/aadebuger/GEXT/ethereum20180910/geth.ipc --blocks-output /Users/aadebuger/GEXT/apps/eth/blocks2000001.csv --transactions-output  /Users/aadebuger/GEXT/apps/eth/transactions2000001.csv\n",
      "2018-09-30 10:08:02,238 - ProgressLogger [INFO] - Started work. Items to process: 500000.\n",
      "2018-09-30 10:09:42,416 - ProgressLogger [INFO] - 50000 items processed. Progress is 10%.\n",
      "2018-09-30 10:11:18,383 - ProgressLogger [INFO] - 100000 items processed. Progress is 20%.\n",
      "2018-09-30 10:12:50,579 - ProgressLogger [INFO] - 150000 items processed. Progress is 30%.\n",
      "2018-09-30 10:14:24,637 - ProgressLogger [INFO] - 200000 items processed. Progress is 40%.\n",
      "2018-09-30 10:16:08,586 - ProgressLogger [INFO] - 250000 items processed. Progress is 50%.\n",
      "2018-09-30 10:18:13,481 - ProgressLogger [INFO] - 300000 items processed. Progress is 60%.\n",
      "2018-09-30 10:19:48,190 - ProgressLogger [INFO] - 350000 items processed. Progress is 70%.\n",
      "2018-09-30 10:21:29,524 - ProgressLogger [INFO] - 400000 items processed. Progress is 80%.\n",
      "2018-09-30 10:23:35,139 - ProgressLogger [INFO] - 450000 items processed. Progress is 90%.\n",
      "2018-09-30 10:25:07,119 - ProgressLogger [INFO] - 500000 items processed. Progress is 100%.\n",
      "2018-09-30 10:25:07,119 - ProgressLogger [INFO] - Finished work. Total items processed: 500000. Took 0:17:04.881647.\n",
      "2018-09-30 10:25:07,121 - CompositeItemExporter [INFO] - block items exported: 500000\n",
      "2018-09-30 10:25:07,135 - CompositeItemExporter [INFO] - transaction items exported: 3718501\n"
     ]
    }
   ],
   "source": [
    "startb=2000001\n",
    "endb=2500000\n",
    "ipcpath='file:/Users/aadebuger/GEXT/ethereum20180910/geth.ipc'\n",
    "datapath='/Users/aadebuger/GEXT/apps/eth'\n",
    "command='~/GEXT/ethereumvenv3/bin/python export_blocks_and_transactions.py --start-block '+str(startb)+' --end-block '+str(endb)+' --provider-uri '+ipcpath+' --blocks-output '+datapath+'/blocks'+str(startb)+'.csv --transactions-output  '+datapath+'/transactions'+str(startb)+'.csv'\n",
    "print(command)\n",
    "! $command"
   ]
  },
  {
   "cell_type": "code",
   "execution_count": 9,
   "metadata": {},
   "outputs": [
    {
     "name": "stdout",
     "output_type": "stream",
     "text": [
      "~/GEXT/ethereumvenv3/bin/python export_blocks_and_transactions.py --start-block 2500001 --end-block 3000000 --provider-uri file:/Users/aadebuger/GEXT/ethereum20180910/geth.ipc --blocks-output /Users/aadebuger/GEXT/apps/eth/blocks2500001.csv --transactions-output  /Users/aadebuger/GEXT/apps/eth/transactions2500001.csv\n",
      "2018-09-30 10:44:32,406 - ProgressLogger [INFO] - Started work. Items to process: 500000.\n",
      "2018-09-30 10:46:26,034 - ProgressLogger [INFO] - 50000 items processed. Progress is 10%.\n",
      "2018-09-30 10:47:46,950 - ProgressLogger [INFO] - 100000 items processed. Progress is 20%.\n",
      "2018-09-30 10:49:12,739 - ProgressLogger [INFO] - 150000 items processed. Progress is 30%.\n",
      "2018-09-30 10:50:48,238 - ProgressLogger [INFO] - 200000 items processed. Progress is 40%.\n",
      "2018-09-30 10:52:16,954 - ProgressLogger [INFO] - 250000 items processed. Progress is 50%.\n",
      "2018-09-30 10:53:32,406 - ProgressLogger [INFO] - 300000 items processed. Progress is 60%.\n",
      "2018-09-30 10:54:39,192 - ProgressLogger [INFO] - 350000 items processed. Progress is 70%.\n",
      "2018-09-30 10:55:41,526 - ProgressLogger [INFO] - 400000 items processed. Progress is 80%.\n",
      "2018-09-30 10:56:46,096 - ProgressLogger [INFO] - 450000 items processed. Progress is 90%.\n",
      "2018-09-30 10:57:52,568 - ProgressLogger [INFO] - 500000 items processed. Progress is 100%.\n",
      "2018-09-30 10:57:52,568 - ProgressLogger [INFO] - Finished work. Total items processed: 500000. Took 0:13:20.162497.\n",
      "2018-09-30 10:57:52,579 - CompositeItemExporter [INFO] - block items exported: 500000\n",
      "2018-09-30 10:57:52,594 - CompositeItemExporter [INFO] - transaction items exported: 3586961\n"
     ]
    }
   ],
   "source": [
    "startb=2500001\n",
    "endb=3000000\n",
    "ipcpath='file:/Users/aadebuger/GEXT/ethereum20180910/geth.ipc'\n",
    "datapath='/Users/aadebuger/GEXT/apps/eth'\n",
    "command='~/GEXT/ethereumvenv3/bin/python export_blocks_and_transactions.py --start-block '+str(startb)+' --end-block '+str(endb)+' --provider-uri '+ipcpath+' --blocks-output '+datapath+'/blocks'+str(startb)+'.csv --transactions-output  '+datapath+'/transactions'+str(startb)+'.csv'\n",
    "print(command)\n",
    "! $command"
   ]
  },
  {
   "cell_type": "code",
   "execution_count": 10,
   "metadata": {},
   "outputs": [
    {
     "name": "stdout",
     "output_type": "stream",
     "text": [
      "~/GEXT/ethereumvenv3/bin/python export_blocks_and_transactions.py --start-block 3000001 --end-block 3500000 --provider-uri file:/Users/aadebuger/GEXT/ethereum20180910/geth.ipc --blocks-output /Users/aadebuger/GEXT/apps/eth/blocks3000001.csv --transactions-output  /Users/aadebuger/GEXT/apps/eth/transactions3000001.csv\n",
      "2018-09-30 11:12:22,866 - ProgressLogger [INFO] - Started work. Items to process: 500000.\n",
      "2018-09-30 11:13:47,521 - ProgressLogger [INFO] - 50000 items processed. Progress is 10%.\n",
      "2018-09-30 11:15:20,337 - ProgressLogger [INFO] - 100000 items processed. Progress is 20%.\n",
      "2018-09-30 11:16:35,355 - ProgressLogger [INFO] - 150000 items processed. Progress is 30%.\n",
      "2018-09-30 11:17:58,986 - ProgressLogger [INFO] - 200000 items processed. Progress is 40%.\n",
      "2018-09-30 11:19:19,189 - ProgressLogger [INFO] - 250000 items processed. Progress is 50%.\n",
      "2018-09-30 11:20:49,836 - ProgressLogger [INFO] - 300000 items processed. Progress is 60%.\n",
      "2018-09-30 11:22:34,115 - ProgressLogger [INFO] - 350000 items processed. Progress is 70%.\n",
      "2018-09-30 11:24:58,337 - ProgressLogger [INFO] - 400000 items processed. Progress is 80%.\n",
      "2018-09-30 11:27:21,349 - ProgressLogger [INFO] - 450000 items processed. Progress is 90%.\n",
      "2018-09-30 11:30:00,742 - ProgressLogger [INFO] - 500000 items processed. Progress is 100%.\n",
      "2018-09-30 11:30:00,743 - ProgressLogger [INFO] - Finished work. Total items processed: 500000. Took 0:17:37.877097.\n",
      "2018-09-30 11:30:00,750 - CompositeItemExporter [INFO] - block items exported: 500000\n",
      "2018-09-30 11:30:00,766 - CompositeItemExporter [INFO] - transaction items exported: 5270757\n"
     ]
    }
   ],
   "source": [
    "startb=3000001\n",
    "endb=3500000\n",
    "ipcpath='file:/Users/aadebuger/GEXT/ethereum20180910/geth.ipc'\n",
    "datapath='/Users/aadebuger/GEXT/apps/eth'\n",
    "command='~/GEXT/ethereumvenv3/bin/python export_blocks_and_transactions.py --start-block '+str(startb)+' --end-block '+str(endb)+' --provider-uri '+ipcpath+' --blocks-output '+datapath+'/blocks'+str(startb)+'.csv --transactions-output  '+datapath+'/transactions'+str(startb)+'.csv'\n",
    "print(command)\n",
    "! $command"
   ]
  },
  {
   "cell_type": "code",
   "execution_count": 11,
   "metadata": {},
   "outputs": [
    {
     "name": "stdout",
     "output_type": "stream",
     "text": [
      "~/GEXT/ethereumvenv3/bin/python export_blocks_and_transactions.py --start-block 3500001 --end-block 4000000 --provider-uri file:/Users/aadebuger/GEXT/ethereum20180910/geth.ipc --blocks-output /Users/aadebuger/GEXT/apps/eth/blocks3500001.csv --transactions-output  /Users/aadebuger/GEXT/apps/eth/transactions3500001.csv\n",
      "2018-09-30 11:39:21,826 - ProgressLogger [INFO] - Started work. Items to process: 500000.\n",
      "2018-09-30 11:42:21,572 - ProgressLogger [INFO] - 50000 items processed. Progress is 10%.\n",
      "2018-09-30 11:44:42,212 - ProgressLogger [INFO] - 100000 items processed. Progress is 20%.\n",
      "2018-09-30 11:48:00,316 - ProgressLogger [INFO] - 150000 items processed. Progress is 30%.\n",
      "2018-09-30 11:51:30,319 - ProgressLogger [INFO] - 200000 items processed. Progress is 40%.\n",
      "2018-09-30 11:55:30,963 - ProgressLogger [INFO] - 250000 items processed. Progress is 50%.\n",
      "2018-09-30 12:01:59,673 - ProgressLogger [INFO] - 300000 items processed. Progress is 60%.\n",
      "2018-09-30 12:10:38,058 - ProgressLogger [INFO] - 350000 items processed. Progress is 70%.\n",
      "2018-09-30 12:21:35,526 - ProgressLogger [INFO] - 400000 items processed. Progress is 80%.\n",
      "2018-09-30 12:32:39,719 - ProgressLogger [INFO] - 450000 items processed. Progress is 90%.\n",
      "2018-09-30 12:42:54,567 - ProgressLogger [INFO] - 500000 items processed. Progress is 100%.\n",
      "2018-09-30 12:42:54,568 - ProgressLogger [INFO] - Finished work. Total items processed: 500000. Took 1:03:32.742070.\n",
      "2018-09-30 12:42:54,569 - CompositeItemExporter [INFO] - block items exported: 500000\n",
      "2018-09-30 12:42:54,580 - CompositeItemExporter [INFO] - transaction items exported: 15700933\n"
     ]
    }
   ],
   "source": [
    "startb=3500001\n",
    "endb=4000000\n",
    "ipcpath='file:/Users/aadebuger/GEXT/ethereum20180910/geth.ipc'\n",
    "datapath='/Users/aadebuger/GEXT/apps/eth'\n",
    "command='~/GEXT/ethereumvenv3/bin/python export_blocks_and_transactions.py --start-block '+str(startb)+' --end-block '+str(endb)+' --provider-uri '+ipcpath+' --blocks-output '+datapath+'/blocks'+str(startb)+'.csv --transactions-output  '+datapath+'/transactions'+str(startb)+'.csv'\n",
    "print(command)\n",
    "! $command"
   ]
  },
  {
   "cell_type": "code",
   "execution_count": 1,
   "metadata": {},
   "outputs": [
    {
     "name": "stdout",
     "output_type": "stream",
     "text": [
      "~/GEXT/ethereumvenv3/bin/python export_blocks_and_transactions.py --start-block 4000001 --end-block 4500000 --provider-uri file:/Users/aadebuger/GEXT/ethereum20180910/geth.ipc --blocks-output /Users/aadebuger/GEXT/apps/eth/blocks4000001.csv --transactions-output  /Users/aadebuger/GEXT/apps/eth/transactions4000001.csv\n",
      "2018-09-30 23:40:44,979 - ProgressLogger [INFO] - Started work. Items to process: 500000.\n",
      "2018-09-30 23:56:20,216 - ProgressLogger [INFO] - 50000 items processed. Progress is 10%.\n",
      "2018-10-01 00:08:45,504 - ProgressLogger [INFO] - 100000 items processed. Progress is 20%.\n",
      "2018-10-01 00:28:05,907 - ProgressLogger [INFO] - 150000 items processed. Progress is 30%.\n",
      "2018-10-01 00:56:10,212 - ProgressLogger [INFO] - 200000 items processed. Progress is 40%.\n",
      "2018-10-01 01:26:59,021 - ProgressLogger [INFO] - 250000 items processed. Progress is 50%.\n",
      "2018-10-01 01:54:24,437 - ProgressLogger [INFO] - 300000 items processed. Progress is 60%.\n",
      "2018-10-01 02:22:03,734 - ProgressLogger [INFO] - 350000 items processed. Progress is 70%.\n",
      "2018-10-01 02:45:56,004 - ProgressLogger [INFO] - 400000 items processed. Progress is 80%.\n",
      "2018-10-01 03:02:38,119 - ProgressLogger [INFO] - 450000 items processed. Progress is 90%.\n",
      "2018-10-01 03:20:23,428 - ProgressLogger [INFO] - 500000 items processed. Progress is 100%.\n",
      "2018-10-01 03:20:23,431 - ProgressLogger [INFO] - Finished work. Total items processed: 500000. Took 3:39:38.452072.\n",
      "2018-10-01 03:20:23,431 - CompositeItemExporter [INFO] - block items exported: 500000\n",
      "2018-10-01 03:20:23,440 - CompositeItemExporter [INFO] - transaction items exported: 41806779\n"
     ]
    }
   ],
   "source": [
    "startb=4000001\n",
    "endb=4500000\n",
    "ipcpath='file:/Users/aadebuger/GEXT/ethereum20180910/geth.ipc'\n",
    "datapath='/Users/aadebuger/GEXT/apps/eth'\n",
    "command='~/GEXT/ethereumvenv3/bin/python export_blocks_and_transactions.py --start-block '+str(startb)+' --end-block '+str(endb)+' --provider-uri '+ipcpath+' --blocks-output '+datapath+'/blocks'+str(startb)+'.csv --transactions-output  '+datapath+'/transactions'+str(startb)+'.csv'\n",
    "print(command)\n",
    "! $command"
   ]
  },
  {
   "cell_type": "code",
   "execution_count": 1,
   "metadata": {},
   "outputs": [
    {
     "name": "stdout",
     "output_type": "stream",
     "text": [
      "~/GEXT/ethereumvenv3/bin/python export_blocks_and_transactions.py --start-block 4500001 --end-block 5000000 --provider-uri file:/Users/aadebuger/GEXT/ethereum20180910/geth.ipc --blocks-output /Users/aadebuger/GEXT/apps/eth/blocks4500001.csv --transactions-output  /Users/aadebuger/GEXT/apps/eth/transactions4500001.csv\n",
      "2018-10-01 16:40:19,538 - ProgressLogger [INFO] - Started work. Items to process: 500000.\n",
      "2018-10-01 17:00:03,270 - ProgressLogger [INFO] - 50000 items processed. Progress is 10%.\n",
      "2018-10-01 17:21:11,838 - ProgressLogger [INFO] - 100000 items processed. Progress is 20%.\n",
      "2018-10-01 17:46:02,439 - ProgressLogger [INFO] - 150000 items processed. Progress is 30%.\n",
      "2018-10-01 18:17:57,035 - ProgressLogger [INFO] - 200000 items processed. Progress is 40%.\n",
      "2018-10-01 19:19:06,590 - ProgressLogger [INFO] - 250000 items processed. Progress is 50%.\n",
      "2018-10-01 20:16:54,593 - ProgressLogger [INFO] - 300000 items processed. Progress is 60%.\n",
      "2018-10-01 21:29:21,815 - ProgressLogger [INFO] - 350000 items processed. Progress is 70%.\n",
      "2018-10-01 23:01:56,672 - ProgressLogger [INFO] - 400000 items processed. Progress is 80%.\n",
      "2018-10-02 00:22:31,288 - ProgressLogger [INFO] - 450000 items processed. Progress is 90%.\n",
      "2018-10-02 01:10:26,533 - ProgressLogger [INFO] - 500000 items processed. Progress is 100%.\n",
      "2018-10-02 01:10:26,538 - ProgressLogger [INFO] - Finished work. Total items processed: 500000. Took 8:30:07.000082.\n",
      "2018-10-02 01:10:26,542 - CompositeItemExporter [INFO] - block items exported: 500000\n",
      "2018-10-02 01:10:26,553 - CompositeItemExporter [INFO] - transaction items exported: 71718884\n"
     ]
    }
   ],
   "source": [
    "startb=4500001\n",
    "endb=5000000\n",
    "ipcpath='file:/Users/aadebuger/GEXT/ethereum20180910/geth.ipc'\n",
    "datapath='/Users/aadebuger/GEXT/apps/eth'\n",
    "command='~/GEXT/ethereumvenv3/bin/python export_blocks_and_transactions.py --start-block '+str(startb)+' --end-block '+str(endb)+' --provider-uri '+ipcpath+' --blocks-output '+datapath+'/blocks'+str(startb)+'.csv --transactions-output  '+datapath+'/transactions'+str(startb)+'.csv'\n",
    "print(command)\n",
    "! $command"
   ]
  },
  {
   "cell_type": "code",
   "execution_count": 1,
   "metadata": {},
   "outputs": [
    {
     "name": "stdout",
     "output_type": "stream",
     "text": [
      "~/GEXT/ethereumvenv3/bin/python export_blocks_and_transactions.py --start-block 5000001 --end-block 5500000 --provider-uri file:/Users/aadebuger/GEXT/ethereum20180910/geth.ipc --blocks-output /Users/aadebuger/GEXT/apps/eth/blocks5000001.csv --transactions-output  /Users/aadebuger/GEXT/apps/eth/transactions5000001.csv\n",
      "2018-10-03 09:34:36,041 - ProgressLogger [INFO] - Started work. Items to process: 500000.\n",
      "2018-10-03 10:25:29,830 - ProgressLogger [INFO] - 50000 items processed. Progress is 10%.\n",
      "2018-10-03 11:01:41,731 - ProgressLogger [INFO] - 100000 items processed. Progress is 20%.\n",
      "2018-10-03 11:38:59,889 - ProgressLogger [INFO] - 150000 items processed. Progress is 30%.\n",
      "2018-10-03 12:11:57,088 - ProgressLogger [INFO] - 200000 items processed. Progress is 40%.\n",
      "2018-10-03 12:47:15,140 - ProgressLogger [INFO] - 250000 items processed. Progress is 50%.\n",
      "2018-10-03 13:22:12,936 - ProgressLogger [INFO] - 300000 items processed. Progress is 60%.\n",
      "2018-10-03 13:50:35,093 - ProgressLogger [INFO] - 350000 items processed. Progress is 70%.\n",
      "2018-10-03 14:21:20,253 - ProgressLogger [INFO] - 400000 items processed. Progress is 80%.\n",
      "2018-10-03 14:54:25,430 - ProgressLogger [INFO] - 450000 items processed. Progress is 90%.\n",
      "2018-10-03 15:33:58,904 - ProgressLogger [INFO] - 500000 items processed. Progress is 100%.\n",
      "2018-10-03 15:33:58,905 - ProgressLogger [INFO] - Finished work. Total items processed: 500000. Took 5:59:22.864441.\n",
      "2018-10-03 15:33:58,906 - CompositeItemExporter [INFO] - block items exported: 500000\n",
      "2018-10-03 15:33:58,912 - CompositeItemExporter [INFO] - transaction items exported: 59971744\n"
     ]
    }
   ],
   "source": [
    "startb=5000001\n",
    "endb=5500000\n",
    "ipcpath='file:/Users/aadebuger/GEXT/ethereum20180910/geth.ipc'\n",
    "datapath='/Users/aadebuger/GEXT/apps/eth'\n",
    "command='~/GEXT/ethereumvenv3/bin/python export_blocks_and_transactions.py --start-block '+str(startb)+' --end-block '+str(endb)+' --provider-uri '+ipcpath+' --blocks-output '+datapath+'/blocks'+str(startb)+'.csv --transactions-output  '+datapath+'/transactions'+str(startb)+'.csv'\n",
    "print(command)\n",
    "! $command"
   ]
  },
  {
   "cell_type": "code",
   "execution_count": 2,
   "metadata": {},
   "outputs": [
    {
     "name": "stdout",
     "output_type": "stream",
     "text": [
      "~/GEXT/ethereumvenv3/bin/python export_blocks_and_transactions.py --start-block 5000001 --end-block 5500000 --provider-uri file:/Users/aadebuger/GEXT/ethereum20180910/geth.ipc --blocks-output /Volumes/ETH/apps/blocks5000001.csv --transactions-output  /Volumes/ETH/apps/transactions5000001.csv\n",
      "2018-10-03 16:48:28,993 - ProgressLogger [INFO] - Started work. Items to process: 500000.\n",
      "2018-10-03 17:43:01,161 - ProgressLogger [INFO] - 50000 items processed. Progress is 10%.\n",
      "2018-10-03 18:20:59,177 - ProgressLogger [INFO] - 100000 items processed. Progress is 20%.\n",
      "2018-10-03 18:57:45,995 - ProgressLogger [INFO] - 150000 items processed. Progress is 30%.\n",
      "2018-10-03 19:29:49,464 - ProgressLogger [INFO] - 200000 items processed. Progress is 40%.\n",
      "2018-10-03 20:01:14,818 - ProgressLogger [INFO] - 250000 items processed. Progress is 50%.\n",
      "2018-10-03 20:33:03,909 - ProgressLogger [INFO] - 300000 items processed. Progress is 60%.\n",
      "2018-10-03 20:58:13,323 - ProgressLogger [INFO] - 350000 items processed. Progress is 70%.\n",
      "2018-10-03 21:24:41,325 - ProgressLogger [INFO] - 400000 items processed. Progress is 80%.\n",
      "2018-10-03 21:55:24,289 - ProgressLogger [INFO] - 450000 items processed. Progress is 90%.\n",
      "2018-10-03 22:33:33,041 - ProgressLogger [INFO] - 500000 items processed. Progress is 100%.\n",
      "2018-10-03 22:33:33,044 - ProgressLogger [INFO] - Finished work. Total items processed: 500000. Took 5:45:04.051510.\n",
      "2018-10-03 22:33:33,045 - CompositeItemExporter [INFO] - block items exported: 500000\n",
      "2018-10-03 22:33:33,055 - CompositeItemExporter [INFO] - transaction items exported: 59971744\n"
     ]
    }
   ],
   "source": [
    "startb=5000001\n",
    "endb=5500000\n",
    "ipcpath='file:/Users/aadebuger/GEXT/ethereum20180910/geth.ipc'\n",
    "datapath='/Volumes/ETH/apps'\n",
    "command='~/GEXT/ethereumvenv3/bin/python export_blocks_and_transactions.py --start-block '+str(startb)+' --end-block '+str(endb)+' --provider-uri '+ipcpath+' --blocks-output '+datapath+'/blocks'+str(startb)+'.csv --transactions-output  '+datapath+'/transactions'+str(startb)+'.csv'\n",
    "print(command)\n",
    "! $command"
   ]
  },
  {
   "cell_type": "code",
   "execution_count": 1,
   "metadata": {},
   "outputs": [
    {
     "name": "stdout",
     "output_type": "stream",
     "text": [
      "~/GEXT/ethereumvenv3/bin/python export_blocks_and_transactions.py --start-block 5500001 --end-block 6000000 --provider-uri file:/Users/aadebuger/GEXT/ethereum20180910/geth.ipc --blocks-output /Volumes/ETH/apps/blocks5500001.csv --transactions-output  /Volumes/ETH/apps/transactions5500001.csv\n",
      "2018-10-04 14:16:13,042 - ProgressLogger [INFO] - Started work. Items to process: 500000.\n",
      "2018-10-04 14:58:57,903 - ProgressLogger [INFO] - 50000 items processed. Progress is 10%.\n",
      "2018-10-04 15:43:25,455 - ProgressLogger [INFO] - 100000 items processed. Progress is 20%.\n",
      "2018-10-04 16:25:23,786 - ProgressLogger [INFO] - 150000 items processed. Progress is 30%.\n",
      "2018-10-04 17:06:52,109 - ProgressLogger [INFO] - 200000 items processed. Progress is 40%.\n",
      "2018-10-04 17:48:50,263 - ProgressLogger [INFO] - 250000 items processed. Progress is 50%.\n",
      "2018-10-04 18:27:43,187 - ProgressLogger [INFO] - 300000 items processed. Progress is 60%.\n",
      "2018-10-04 19:02:34,681 - ProgressLogger [INFO] - 350000 items processed. Progress is 70%.\n",
      "2018-10-04 19:36:56,971 - ProgressLogger [INFO] - 400000 items processed. Progress is 80%.\n",
      "2018-10-04 20:04:18,153 - ProgressLogger [INFO] - 450000 items processed. Progress is 90%.\n",
      "2018-10-04 20:33:31,929 - ProgressLogger [INFO] - 500000 items processed. Progress is 100%.\n",
      "2018-10-04 20:33:31,932 - ProgressLogger [INFO] - Finished work. Total items processed: 500000. Took 6:17:18.890387.\n",
      "2018-10-04 20:33:31,933 - CompositeItemExporter [INFO] - block items exported: 500000\n",
      "2018-10-04 20:33:31,945 - CompositeItemExporter [INFO] - transaction items exported: 64068982\n"
     ]
    }
   ],
   "source": [
    "startb=5500001\n",
    "endb=6000000\n",
    "ipcpath='file:/Users/aadebuger/GEXT/ethereum20180910/geth.ipc'\n",
    "datapath='/Volumes/ETH/apps'\n",
    "command='~/GEXT/ethereumvenv3/bin/python export_blocks_and_transactions.py --start-block '+str(startb)+' --end-block '+str(endb)+' --provider-uri '+ipcpath+' --blocks-output '+datapath+'/blocks'+str(startb)+'.csv --transactions-output  '+datapath+'/transactions'+str(startb)+'.csv'\n",
    "print(command)\n",
    "! $command"
   ]
  },
  {
   "cell_type": "code",
   "execution_count": 1,
   "metadata": {},
   "outputs": [
    {
     "name": "stdout",
     "output_type": "stream",
     "text": [
      "~/GEXT/ethereumvenv3/bin/python export_blocks_and_transactions.py --start-block 6000001 --end-block 6300000 --provider-uri file:/Users/aadebuger/GEXT/ethereum20180910/geth.ipc --blocks-output /Volumes/ETH/apps/blocks6000001.csv --transactions-output  /Volumes/ETH/apps/transactions6000001.csv\n",
      "2018-10-05 08:43:19,750 - ProgressLogger [INFO] - Started work. Items to process: 300000.\n",
      "2018-10-05 09:04:55,045 - ProgressLogger [INFO] - 30000 items processed. Progress is 10%.\n",
      "2018-10-05 09:24:43,229 - ProgressLogger [INFO] - 60000 items processed. Progress is 20%.\n",
      "2018-10-05 09:45:17,328 - ProgressLogger [INFO] - 90000 items processed. Progress is 30%.\n",
      "2018-10-05 10:00:33,810 - ProgressLogger [INFO] - 120000 items processed. Progress is 40%.\n",
      "2018-10-05 10:17:32,477 - ProgressLogger [INFO] - 150000 items processed. Progress is 50%.\n",
      "2018-10-05 10:34:12,699 - ProgressLogger [INFO] - 180000 items processed. Progress is 60%.\n",
      "2018-10-05 10:51:23,103 - ProgressLogger [INFO] - 210000 items processed. Progress is 70%.\n",
      "2018-10-05 11:11:03,442 - ProgressLogger [INFO] - 240000 items processed. Progress is 80%.\n",
      "2018-10-05 11:31:31,109 - ProgressLogger [INFO] - 270000 items processed. Progress is 90%.\n",
      "2018-10-05 11:51:28,900 - ProgressLogger [INFO] - 300000 items processed. Progress is 100%.\n",
      "2018-10-05 11:51:28,901 - ProgressLogger [INFO] - Finished work. Total items processed: 300000. Took 3:08:09.151076.\n",
      "2018-10-05 11:51:28,902 - CompositeItemExporter [INFO] - block items exported: 300000\n",
      "2018-10-05 11:51:28,908 - CompositeItemExporter [INFO] - transaction items exported: 33132858\n"
     ]
    }
   ],
   "source": [
    "startb=6000001\n",
    "endb=6300000\n",
    "ipcpath='file:/Users/aadebuger/GEXT/ethereum20180910/geth.ipc'\n",
    "datapath='/Volumes/ETH/apps'\n",
    "command='~/GEXT/ethereumvenv3/bin/python export_blocks_and_transactions.py --start-block '+str(startb)+' --end-block '+str(endb)+' --provider-uri '+ipcpath+' --blocks-output '+datapath+'/blocks'+str(startb)+'.csv --transactions-output  '+datapath+'/transactions'+str(startb)+'.csv'\n",
    "print(command)\n",
    "! $command"
   ]
  },
  {
   "cell_type": "code",
   "execution_count": 2,
   "metadata": {},
   "outputs": [
    {
     "name": "stdout",
     "output_type": "stream",
     "text": [
      "~/GEXT/ethereumvenv3/bin/python export_blocks_and_transactions.py --start-block 6300001 --end-block 6450000 --provider-uri file:/Users/aadebuger/GEXT/ethereum20180910/geth.ipc --blocks-output /Volumes/ETH/apps/blocks6300001.csv --transactions-output  /Volumes/ETH/apps/transactions6300001.csv\n",
      "2018-10-05 13:30:49,512 - ProgressLogger [INFO] - Started work. Items to process: 150000.\n",
      "2018-10-05 13:42:46,746 - ProgressLogger [INFO] - 15000 items processed. Progress is 10%.\n",
      "2018-10-05 13:52:33,384 - ProgressLogger [INFO] - 30000 items processed. Progress is 20%.\n",
      "2018-10-05 14:00:17,986 - ProgressLogger [INFO] - 45000 items processed. Progress is 30%.\n",
      "2018-10-05 14:08:52,304 - ProgressLogger [INFO] - 60000 items processed. Progress is 40%.\n",
      "2018-10-05 14:16:50,333 - ProgressLogger [INFO] - 75000 items processed. Progress is 50%.\n",
      "2018-10-05 14:24:39,522 - ProgressLogger [INFO] - 90000 items processed. Progress is 60%.\n",
      "2018-10-05 14:33:35,925 - ProgressLogger [INFO] - 105000 items processed. Progress is 70%.\n",
      "2018-10-05 14:42:10,790 - ProgressLogger [INFO] - 120000 items processed. Progress is 80%.\n",
      "2018-10-05 14:48:57,750 - ProgressLogger [INFO] - 135000 items processed. Progress is 90%.\n",
      "2018-10-05 14:56:21,273 - ProgressLogger [INFO] - 150000 items processed. Progress is 100%.\n",
      "2018-10-05 14:56:21,274 - ProgressLogger [INFO] - Finished work. Total items processed: 150000. Took 1:25:31.761852.\n",
      "2018-10-05 14:56:21,274 - CompositeItemExporter [INFO] - block items exported: 150000\n",
      "2018-10-05 14:56:21,286 - CompositeItemExporter [INFO] - transaction items exported: 12566525\n"
     ]
    }
   ],
   "source": [
    "startb=6300001\n",
    "endb=6450000\n",
    "ipcpath='file:/Users/aadebuger/GEXT/ethereum20180910/geth.ipc'\n",
    "datapath='/Volumes/ETH/apps'\n",
    "command='~/GEXT/ethereumvenv3/bin/python export_blocks_and_transactions.py --start-block '+str(startb)+' --end-block '+str(endb)+' --provider-uri '+ipcpath+' --blocks-output '+datapath+'/blocks'+str(startb)+'.csv --transactions-output  '+datapath+'/transactions'+str(startb)+'.csv'\n",
    "print(command)\n",
    "! $command"
   ]
  },
  {
   "cell_type": "code",
   "execution_count": 3,
   "metadata": {},
   "outputs": [
    {
     "name": "stdout",
     "output_type": "stream",
     "text": [
      "~/GEXT/ethereumvenv3/bin/python export_blocks_and_transactions.py --start-block 6450001 --end-block 6456000 --provider-uri file:/Users/aadebuger/GEXT/ethereum20180910/geth.ipc --blocks-output /Volumes/ETH/apps/blocks6450001.csv --transactions-output  /Volumes/ETH/apps/transactions6450001.csv\n",
      "2018-10-05 16:35:45,220 - ProgressLogger [INFO] - Started work. Items to process: 6000.\n",
      "2018-10-05 16:36:58,881 - ProgressLogger [INFO] - 600 items processed. Progress is 10%.\n",
      "2018-10-05 16:37:31,750 - ProgressLogger [INFO] - 1200 items processed. Progress is 20%.\n",
      "2018-10-05 16:38:01,998 - ProgressLogger [INFO] - 1800 items processed. Progress is 30%.\n",
      "2018-10-05 16:38:39,540 - ProgressLogger [INFO] - 2400 items processed. Progress is 40%.\n",
      "2018-10-05 16:39:02,014 - ProgressLogger [INFO] - 3000 items processed. Progress is 50%.\n",
      "2018-10-05 16:39:17,772 - ProgressLogger [INFO] - 3600 items processed. Progress is 60%.\n",
      "2018-10-05 16:39:35,329 - ProgressLogger [INFO] - 4200 items processed. Progress is 70%.\n",
      "2018-10-05 16:39:54,010 - ProgressLogger [INFO] - 4800 items processed. Progress is 80%.\n",
      "2018-10-05 16:40:09,731 - ProgressLogger [INFO] - 5400 items processed. Progress is 90%.\n",
      "2018-10-05 16:40:31,409 - ProgressLogger [INFO] - 6000 items processed. Progress is 100%.\n",
      "2018-10-05 16:40:31,410 - ProgressLogger [INFO] - Finished work. Total items processed: 6000. Took 0:04:46.190041.\n",
      "2018-10-05 16:40:31,410 - CompositeItemExporter [INFO] - block items exported: 6000\n",
      "2018-10-05 16:40:31,420 - CompositeItemExporter [INFO] - transaction items exported: 533682\n"
     ]
    }
   ],
   "source": [
    "startb=6450001\n",
    "endb=6456000\n",
    "ipcpath='file:/Users/aadebuger/GEXT/ethereum20180910/geth.ipc'\n",
    "datapath='/Volumes/ETH/apps'\n",
    "command='~/GEXT/ethereumvenv3/bin/python export_blocks_and_transactions.py --start-block '+str(startb)+' --end-block '+str(endb)+' --provider-uri '+ipcpath+' --blocks-output '+datapath+'/blocks'+str(startb)+'.csv --transactions-output  '+datapath+'/transactions'+str(startb)+'.csv'\n",
    "print(command)\n",
    "! $command"
   ]
  },
  {
   "cell_type": "code",
   "execution_count": null,
   "metadata": {},
   "outputs": [],
   "source": []
  }
 ],
 "metadata": {
  "kernelspec": {
   "display_name": "Python 3",
   "language": "python",
   "name": "python3"
  },
  "language_info": {
   "codemirror_mode": {
    "name": "ipython",
    "version": 3
   },
   "file_extension": ".py",
   "mimetype": "text/x-python",
   "name": "python",
   "nbconvert_exporter": "python",
   "pygments_lexer": "ipython3",
   "version": "3.6.5"
  }
 },
 "nbformat": 4,
 "nbformat_minor": 2
}
